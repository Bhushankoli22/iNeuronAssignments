{
 "cells": [
  {
   "cell_type": "markdown",
   "id": "d92e48a8",
   "metadata": {},
   "source": [
    "# 1. Add the current date to the text file today.txt as a string."
   ]
  },
  {
   "cell_type": "code",
   "execution_count": 25,
   "id": "31cd0906",
   "metadata": {},
   "outputs": [
    {
     "name": "stdout",
     "output_type": "stream",
     "text": [
      "2021-11-03 22:23:55.734156\n"
     ]
    }
   ],
   "source": [
    "# Ans : \n",
    "from datetime import datetime\n",
    "with open('today.txt', 'w') as file:\n",
    "    n = datetime.now()\n",
    "    print(\"%s\"%n)\n",
    "def timeStamp(fname, fmt='%Y-%m-%d-%H-%M-%S_{fname}'):\n",
    "    return datetime.now().strftime(fmt).format(fname=fname)\n",
    "with open(timeStamp('today.txt'),'w') as outf:\n",
    "    outf.write('data!')"
   ]
  },
  {
   "cell_type": "markdown",
   "id": "927857a4",
   "metadata": {},
   "source": [
    "# 2. Read the text file today.txt into the string today_string"
   ]
  },
  {
   "cell_type": "code",
   "execution_count": 27,
   "id": "d33522f2",
   "metadata": {},
   "outputs": [
    {
     "name": "stdout",
     "output_type": "stream",
     "text": [
      "2021-11-03 22:23:55.734156\n"
     ]
    },
    {
     "data": {
      "text/plain": [
       "<function TextIOWrapper.close()>"
      ]
     },
     "execution_count": 27,
     "metadata": {},
     "output_type": "execute_result"
    }
   ],
   "source": [
    "# Ans : \n",
    "filename = 'today.txt'\n",
    "infile = open(filename,'r')\n",
    "today_string = infile.read()\n",
    "print(today_string)\n",
    "infile.close"
   ]
  },
  {
   "cell_type": "markdown",
   "id": "cbcf7ae5",
   "metadata": {},
   "source": [
    "# 3. Parse the date from today_string."
   ]
  },
  {
   "cell_type": "code",
   "execution_count": 30,
   "id": "cc1abf5c",
   "metadata": {},
   "outputs": [
    {
     "name": "stdout",
     "output_type": "stream",
     "text": [
      "Current Timestamp :  2021-11-03 22:23:55.734156\n"
     ]
    }
   ],
   "source": [
    "# Ans :\n",
    "dateTimeObj = datetime.now()\n",
    "today_string = dateTimeObj.strftime(\"%d-%b-%Y (%H:%M:%S.%f)\")\n",
    "infile = open(filename,'r')\n",
    "today_string = infile.read()\n",
    "print('Current Timestamp : ', today_string)"
   ]
  },
  {
   "cell_type": "markdown",
   "id": "db236ad6",
   "metadata": {},
   "source": [
    "# 4. List the files in your current directory"
   ]
  },
  {
   "cell_type": "code",
   "execution_count": 33,
   "id": "38b58796",
   "metadata": {},
   "outputs": [
    {
     "data": {
      "text/plain": [
       "['.ipynb_checkpoints',\n",
       " 'Assignment 1.ipynb',\n",
       " 'Assignment 10.ipynb',\n",
       " 'Assignment 11.ipynb',\n",
       " 'Assignment 12.ipynb',\n",
       " 'Assignment 13.ipynb',\n",
       " 'Assignment 14.ipynb',\n",
       " 'Assignment 15.ipynb',\n",
       " 'Assignment 16.ipynb',\n",
       " 'Assignment 17.ipynb',\n",
       " 'Assignment 18.ipynb',\n",
       " 'Assignment 19.ipynb',\n",
       " 'Assignment 2.ipynb',\n",
       " 'Assignment 20.ipynb',\n",
       " 'Assignment 21.ipynb',\n",
       " 'Assignment 3.ipynb',\n",
       " 'Assignment 4.ipynb',\n",
       " 'Assignment 5.ipynb',\n",
       " 'Assignment 6.ipynb',\n",
       " 'Assignment 7.ipynb',\n",
       " 'Assignment 8.ipynb',\n",
       " 'Assignment 9.ipynb',\n",
       " 'books.csv',\n",
       " 'books.db',\n",
       " 'Demo',\n",
       " 'okayokay.jpeg',\n",
       " 'randomFolder',\n",
       " 'test.txt',\n",
       " 'today.txt',\n",
       " 'zoo.py',\n",
       " '__pycache__']"
      ]
     },
     "execution_count": 33,
     "metadata": {},
     "output_type": "execute_result"
    }
   ],
   "source": [
    "# Ans : \n",
    "import os\n",
    "path = 'C:/Users/bhush/iNeuron/Assignments/Basic Pyhton'\n",
    "os.listdir(path)"
   ]
  },
  {
   "cell_type": "markdown",
   "id": "a08a0e04",
   "metadata": {},
   "source": [
    "# 5. Create a list of all of the files in your parent directory (minimum five files should be available)."
   ]
  },
  {
   "cell_type": "code",
   "execution_count": 34,
   "id": "54f8cd2b",
   "metadata": {},
   "outputs": [
    {
     "name": "stdout",
     "output_type": "stream",
     "text": [
      "['.ipynb_checkpoints', 'Assignment 1.ipynb', 'Assignment 10.ipynb', 'Assignment 11.ipynb', 'Assignment 12.ipynb', 'Assignment 13.ipynb', 'Assignment 14.ipynb', 'Assignment 15.ipynb', 'Assignment 16.ipynb', 'Assignment 17.ipynb', 'Assignment 18.ipynb', 'Assignment 19.ipynb', 'Assignment 2.ipynb', 'Assignment 20.ipynb', 'Assignment 21.ipynb', 'Assignment 3.ipynb', 'Assignment 4.ipynb', 'Assignment 5.ipynb', 'Assignment 6.ipynb', 'Assignment 7.ipynb', 'Assignment 8.ipynb', 'Assignment 9.ipynb', 'books.csv', 'books.db', 'Demo', 'okayokay.jpeg', 'randomFolder', 'test.txt', 'today.txt', 'zoo.py', '__pycache__']\n"
     ]
    }
   ],
   "source": [
    "# Ans : \n",
    "import os\n",
    "path = 'C:/Users/bhush/iNeuron/Assignments/Basic Pyhton'\n",
    "listoffiles = os.listdir(path)\n",
    "print(listoffiles)"
   ]
  },
  {
   "cell_type": "markdown",
   "id": "73adfeb8",
   "metadata": {},
   "source": [
    "# 6. Use multiprocessing to create three separate processes. Make each one wait a random number of seconds between one and five, print the current time, and then exit."
   ]
  },
  {
   "cell_type": "code",
   "execution_count": 56,
   "id": "396da68c",
   "metadata": {},
   "outputs": [
    {
     "name": "stdout",
     "output_type": "stream",
     "text": [
      "Started worker <class 'str'>\n",
      "<class 'str'> worker finished in 2 seconds\n"
     ]
    }
   ],
   "source": [
    "# Ans : \n",
    "import multiprocessing\n",
    "import random\n",
    "import time\n",
    "def worker(name: str) -> None:\n",
    "    print(f'Started worker {name}')\n",
    "    worker_time = random.choice(range(1, 5))\n",
    "    time.sleep(worker_time)\n",
    "    print(f'{name} worker finished in {worker_time} seconds')\n",
    "worker(str)"
   ]
  },
  {
   "cell_type": "markdown",
   "id": "7416e651",
   "metadata": {},
   "source": [
    "# 7. Create a date object of your day of birth."
   ]
  },
  {
   "cell_type": "code",
   "execution_count": 58,
   "id": "1636d4a2",
   "metadata": {},
   "outputs": [
    {
     "name": "stdout",
     "output_type": "stream",
     "text": [
      "1998-01-26 00:00:00\n"
     ]
    }
   ],
   "source": [
    "# Ans : \n",
    "import datetime\n",
    "dob = datetime.datetime(1998,1,26)\n",
    "print(dob)"
   ]
  },
  {
   "cell_type": "markdown",
   "id": "3c37a6a4",
   "metadata": {},
   "source": [
    "# 8. What day of the week was your day of birth?"
   ]
  },
  {
   "cell_type": "code",
   "execution_count": 62,
   "id": "31310e9b",
   "metadata": {},
   "outputs": [
    {
     "name": "stdout",
     "output_type": "stream",
     "text": [
      "26 01 1998\n",
      "Monday\n"
     ]
    }
   ],
   "source": [
    "# Ans : \n",
    "import datetime\n",
    "import calendar\n",
    " \n",
    "def findDay(date):\n",
    "    born = datetime.datetime.strptime(date, '%d %m %Y').weekday()\n",
    "    return (calendar.day_name[born])\n",
    "dob = '26 01 1998'\n",
    "print(dob)\n",
    "print(findDay(dob))"
   ]
  },
  {
   "cell_type": "markdown",
   "id": "54c82454",
   "metadata": {},
   "source": [
    "# 9. When will you be (or when were you) 10,000 days old?"
   ]
  },
  {
   "cell_type": "code",
   "execution_count": 68,
   "id": "522832cd",
   "metadata": {},
   "outputs": [
    {
     "name": "stdout",
     "output_type": "stream",
     "text": [
      "1970.09.10\n"
     ]
    }
   ],
   "source": [
    "# Ans : \n",
    "from datetime import datetime, date,timedelta\n",
    "\n",
    "dob = '1998.01.26'\n",
    "todays_date = dob\n",
    "n_days_ago = 10000\n",
    "\n",
    "def str_to_date(str):\n",
    "    year, month, day = map(int, str.split(\".\"))\n",
    "    return date(year, month, day)\n",
    "\n",
    "date_N_days_ago = str_to_date(todays_date) -timedelta(n_days_ago)\n",
    "\n",
    "print(date_N_days_ago.strftime(\"%Y.%m.%d\"))"
   ]
  },
  {
   "cell_type": "code",
   "execution_count": null,
   "id": "2d7cde0f",
   "metadata": {},
   "outputs": [],
   "source": []
  }
 ],
 "metadata": {
  "kernelspec": {
   "display_name": "Python 3",
   "language": "python",
   "name": "python3"
  },
  "language_info": {
   "codemirror_mode": {
    "name": "ipython",
    "version": 3
   },
   "file_extension": ".py",
   "mimetype": "text/x-python",
   "name": "python",
   "nbconvert_exporter": "python",
   "pygments_lexer": "ipython3",
   "version": "3.8.8"
  }
 },
 "nbformat": 4,
 "nbformat_minor": 5
}
