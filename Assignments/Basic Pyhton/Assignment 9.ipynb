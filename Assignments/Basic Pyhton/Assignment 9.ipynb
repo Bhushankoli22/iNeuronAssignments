{
 "cells": [
  {
   "cell_type": "markdown",
   "id": "94e58ad0",
   "metadata": {},
   "source": [
    "# 1. To what does a relative path refer?"
   ]
  },
  {
   "cell_type": "code",
   "execution_count": 1,
   "id": "b00e31f9",
   "metadata": {},
   "outputs": [],
   "source": [
    "# Ans: Relative paths are relative to the current working directory."
   ]
  },
  {
   "cell_type": "markdown",
   "id": "c0e7b511",
   "metadata": {},
   "source": [
    "# 2. What does an absolute path start with your operating system?"
   ]
  },
  {
   "cell_type": "code",
   "execution_count": 3,
   "id": "6e989d9e",
   "metadata": {},
   "outputs": [],
   "source": [
    "# Ans : Absolute paths start with the root folder, such as / or C:\\."
   ]
  },
  {
   "cell_type": "markdown",
   "id": "2cb6b6b9",
   "metadata": {},
   "source": [
    "# 3. What do the functions os.getcwd() and os.chdir() do?"
   ]
  },
  {
   "cell_type": "code",
   "execution_count": 4,
   "id": "04f1cfd3",
   "metadata": {},
   "outputs": [],
   "source": [
    "# Ans : The os.getcwd() function returns the current working directory.\n",
    "#       The os.chdir() function changes the current working directory."
   ]
  },
  {
   "cell_type": "markdown",
   "id": "bbf10c27",
   "metadata": {},
   "source": [
    "# 4. What are the . and .. folders?"
   ]
  },
  {
   "cell_type": "code",
   "execution_count": 5,
   "id": "66b18b72",
   "metadata": {},
   "outputs": [],
   "source": [
    "# Ans :  The . folder is the current folder, and .. is the parent folder."
   ]
  },
  {
   "cell_type": "markdown",
   "id": "8ee44f4d",
   "metadata": {},
   "source": [
    "# 5. In C:\\bacon\\eggs\\spam.txt, which part is the dir name, and which part is the base name?"
   ]
  },
  {
   "cell_type": "code",
   "execution_count": 6,
   "id": "5b431482",
   "metadata": {},
   "outputs": [],
   "source": [
    "# Ans : C:\\bacon\\eggs is the dir name, while spam.txt is the base name."
   ]
  },
  {
   "cell_type": "markdown",
   "id": "ef83efb8",
   "metadata": {},
   "source": [
    "# 6. What are the three “mode” arguments that can be passed to the open() function?"
   ]
  },
  {
   "cell_type": "code",
   "execution_count": 7,
   "id": "cf115ace",
   "metadata": {},
   "outputs": [],
   "source": [
    "# Ans : The string 'r' for read mode, 'w' for write mode, and 'a' for append mode is used for open() function."
   ]
  },
  {
   "cell_type": "markdown",
   "id": "a3fef3c7",
   "metadata": {},
   "source": [
    "# 7. What happens if an existing file is opened in write mode?"
   ]
  },
  {
   "cell_type": "code",
   "execution_count": 8,
   "id": "9dbff169",
   "metadata": {},
   "outputs": [],
   "source": [
    "# Ans : An existing file opened in write mode is erased and completely overwritten."
   ]
  },
  {
   "cell_type": "markdown",
   "id": "0dd70e06",
   "metadata": {},
   "source": [
    "# 8. How do you tell the difference between read() and readlines()?"
   ]
  },
  {
   "cell_type": "code",
   "execution_count": 9,
   "id": "637db980",
   "metadata": {},
   "outputs": [],
   "source": [
    "# Ans : The read() method returns the file’s entire contents as a single string value. \n",
    "#       The readlines() method returns a list of strings, where each string is a line from the file’s contents."
   ]
  },
  {
   "cell_type": "markdown",
   "id": "9930a9da",
   "metadata": {},
   "source": [
    "# 9. What data structure does a shelf value resemble?"
   ]
  },
  {
   "cell_type": "code",
   "execution_count": null,
   "id": "6f9dc0bc",
   "metadata": {},
   "outputs": [],
   "source": [
    "# Ans :  A shelf value resembles a dictionary value; it has keys and values, \n",
    "#        along with keys() and values() methods that work similarly to the dictionary methods of the same names."
   ]
  }
 ],
 "metadata": {
  "kernelspec": {
   "display_name": "Python 3",
   "language": "python",
   "name": "python3"
  },
  "language_info": {
   "codemirror_mode": {
    "name": "ipython",
    "version": 3
   },
   "file_extension": ".py",
   "mimetype": "text/x-python",
   "name": "python",
   "nbconvert_exporter": "python",
   "pygments_lexer": "ipython3",
   "version": "3.8.8"
  }
 },
 "nbformat": 4,
 "nbformat_minor": 5
}
