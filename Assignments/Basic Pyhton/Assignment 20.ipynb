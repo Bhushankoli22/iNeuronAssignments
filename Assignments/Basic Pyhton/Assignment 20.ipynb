{
 "cells": [
  {
   "cell_type": "markdown",
   "id": "162bf6c7",
   "metadata": {},
   "source": [
    "# 1. Set the variable test1 to the string 'This is a test of the emergency text system,' and save test1 to a file named test.txt."
   ]
  },
  {
   "cell_type": "code",
   "execution_count": null,
   "id": "84af346a",
   "metadata": {},
   "outputs": [],
   "source": [
    "# Ans : Done"
   ]
  },
  {
   "cell_type": "markdown",
   "id": "8dce25c3",
   "metadata": {},
   "source": [
    "# 2. Read the contents of the file test.txt into the variable test2. Is there a difference between test 1 and test 2?"
   ]
  },
  {
   "cell_type": "code",
   "execution_count": null,
   "id": "f433f8b6",
   "metadata": {},
   "outputs": [],
   "source": [
    "# Ans : \n",
    "test2 = open('test.txt', 'r')\n",
    "test2.read()"
   ]
  },
  {
   "cell_type": "code",
   "execution_count": null,
   "id": "31dab466",
   "metadata": {},
   "outputs": [],
   "source": [
    "test1.read()"
   ]
  },
  {
   "cell_type": "markdown",
   "id": "bd38ed8f",
   "metadata": {},
   "source": [
    "# 3. Create a CSV file called books.csv by using these lines:\n",
    "# title,author,year\n",
    "# The Weirdstone of Brisingamen,Alan Garner,1960\n",
    "# Perdido Street Station,China Miéville,2000\n",
    "# Thud!,Terry Pratchett,2005\n",
    "# The Spellman Files,Lisa Lutz,2007\n",
    "# Small Gods,Terry Pratchett,1992"
   ]
  },
  {
   "cell_type": "code",
   "execution_count": 25,
   "id": "662138cc",
   "metadata": {},
   "outputs": [
    {
     "data": {
      "text/plain": [
       "['title,author,year\\n',\n",
       " 'The Weirdstone of Brisingamen,Alan Garner,1960\\n',\n",
       " 'Perdido Street Station,China MiÃ©ville,2000\\n',\n",
       " 'Thud!,Terry Pratchett,2005\\n',\n",
       " 'The Spellman Files,Lisa Lutz,2007\\n',\n",
       " 'Small Gods,Terry Pratchett,1992']"
      ]
     },
     "execution_count": 25,
     "metadata": {},
     "output_type": "execute_result"
    }
   ],
   "source": [
    "# Ans : Done\n",
    "import csv\n",
    "\n",
    "f = open('books.csv','r')\n",
    "f.readlines()"
   ]
  },
  {
   "cell_type": "markdown",
   "id": "0b18e272",
   "metadata": {},
   "source": [
    "# 4. Use the sqlite3 module to create a SQLite database called books.db, and a table called books with these fields: title (text), author (text), and year (integer)."
   ]
  },
  {
   "cell_type": "code",
   "execution_count": 2,
   "id": "8d69176d",
   "metadata": {},
   "outputs": [
    {
     "name": "stdout",
     "output_type": "stream",
     "text": [
      "Database Created\n",
      "Table Created\n"
     ]
    }
   ],
   "source": [
    "# Ans : \n",
    "import mysql.connector as connection\n",
    "try:\n",
    "    mydb = connection.connect(host=\"localhost\",user=\"root\",passwd=\"Bhushan@22.\",use_pure=True)\n",
    "    print(\"Database Created\")\n",
    "    query = \"CREATE TABLE student.books(title text(70),author text(70),year INT(5));\"\n",
    "    cursor = mydb.cursor()\n",
    "    cursor.execute(query)\n",
    "    print(\"Table Created\")\n",
    "\n",
    "    \n",
    "except Exception as e:\n",
    "    mydb.close()\n",
    "    print(str(e))"
   ]
  },
  {
   "cell_type": "markdown",
   "id": "3ba4399f",
   "metadata": {},
   "source": [
    "# 5. Read books.csv and insert its data into the book table."
   ]
  },
  {
   "cell_type": "code",
   "execution_count": 32,
   "id": "2d4fb29e",
   "metadata": {},
   "outputs": [
    {
     "name": "stdout",
     "output_type": "stream",
     "text": [
      "'MySQLCursor' object has no attribute 'commit'\n"
     ]
    }
   ],
   "source": [
    "# Ans : \n",
    "import csv\n",
    "import mysql.connector as connection\n",
    "try:\n",
    "    mydb = connection.connect(host=\"localhost\",user=\"root\",passwd=\"Bhushan@22.\",use_pure=True)\n",
    "    cur = mydb.cursor()\n",
    "    with open('books.csv', 'r') as f:\n",
    "        reader = csv.reader(f)\n",
    "        next(reader) \n",
    "        for row in reader:\n",
    "            cur.execute(\n",
    "            \"INSERT INTO student.books VALUES (%s, %s, %s)\",\n",
    "            row\n",
    "        )\n",
    "    mydb.commit()\n",
    "except Exception as e:\n",
    "    print(e)"
   ]
  },
  {
   "cell_type": "markdown",
   "id": "0d2a18a0",
   "metadata": {},
   "source": [
    "# 6. Select and print the title column from the book table in alphabetical order."
   ]
  },
  {
   "cell_type": "code",
   "execution_count": 29,
   "id": "6cc2ffd7",
   "metadata": {},
   "outputs": [
    {
     "name": "stdout",
     "output_type": "stream",
     "text": [
      "\n"
     ]
    }
   ],
   "source": [
    "# Ans : \n",
    "import mysql.connector as connection\n",
    "try:\n",
    "    mydb = connection.connect(host=\"localhost\",user=\"root\",passwd=\"Bhushan@22.\",use_pure=True)\n",
    "    query = \"SELECT * FROM student.books ORDER BY title ASC;\"\n",
    "    cursor = mydb.cursor()\n",
    "    cursor.execute(query)\n",
    "    print()\n",
    "except Exception as e:\n",
    "    mydb.close()\n",
    "    print(str(e))"
   ]
  },
  {
   "cell_type": "markdown",
   "id": "ff87ebb9",
   "metadata": {},
   "source": [
    "# 7. From the book table, select and print all columns in the order of publication."
   ]
  },
  {
   "cell_type": "code",
   "execution_count": 33,
   "id": "8e8c45b2",
   "metadata": {},
   "outputs": [
    {
     "name": "stdout",
     "output_type": "stream",
     "text": [
      "\n"
     ]
    }
   ],
   "source": [
    "# Ans : \n",
    "import mysql.connector as connection\n",
    "try:\n",
    "    mydb = connection.connect(host=\"localhost\",user=\"root\",passwd=\"Bhushan@22.\",use_pure=True)\n",
    "    query = \"SELECT * FROM student.books ORDER BY year ASC;\"\n",
    "    cursor = mydb.cursor()\n",
    "    cursor.execute(query)\n",
    "    print()\n",
    "except Exception as e:\n",
    "    mydb.close()\n",
    "    print(str(e))"
   ]
  },
  {
   "cell_type": "code",
   "execution_count": 35,
   "id": "72f03381",
   "metadata": {},
   "outputs": [
    {
     "data": {
      "text/plain": [
       "'C:\\\\Users\\\\bhush\\\\iNeuron\\\\Assignments\\\\Basic Pyhton'"
      ]
     },
     "execution_count": 35,
     "metadata": {},
     "output_type": "execute_result"
    }
   ],
   "source": [
    "pwd()"
   ]
  },
  {
   "cell_type": "markdown",
   "id": "fdc37cf1",
   "metadata": {},
   "source": [
    "# 8. Use the sqlalchemy module to connect to the sqlite3 database books.db that you just made in exercise 6."
   ]
  },
  {
   "cell_type": "code",
   "execution_count": 36,
   "id": "ad306fa4",
   "metadata": {},
   "outputs": [],
   "source": [
    "# Ans : \n",
    "import sqlite3\n",
    "import pandas as pd\n"
   ]
  },
  {
   "cell_type": "code",
   "execution_count": 39,
   "id": "ce073e80",
   "metadata": {},
   "outputs": [],
   "source": [
    "cnx = sqlite3.connect('C://Users//bhush//iNeuron//Assignments//Basic Pyhton//books.db')\n",
    "cursor = cnx.cursor()"
   ]
  },
  {
   "cell_type": "code",
   "execution_count": 41,
   "id": "4bdd436a",
   "metadata": {},
   "outputs": [
    {
     "name": "stdout",
     "output_type": "stream",
     "text": [
      "[('books',)]\n"
     ]
    }
   ],
   "source": [
    "cursor.execute(\"SELECT name FROM sqlite_master WHERE type='table';\")\n",
    "print(cursor.fetchall())"
   ]
  },
  {
   "cell_type": "code",
   "execution_count": 43,
   "id": "de125e02",
   "metadata": {},
   "outputs": [],
   "source": [
    "dfN_check = pd.read_sql_query(\"SELECT * FROM books\", cnx)"
   ]
  },
  {
   "cell_type": "markdown",
   "id": "88695efe",
   "metadata": {},
   "source": [
    "# 9. Install the Redis server and the Python redis library (pip install redis) on your computer. Create a Redis hash called test with the fields count (1) and name ('Fester Bestertester'). Print all the fields for test."
   ]
  },
  {
   "cell_type": "code",
   "execution_count": 19,
   "id": "18003b26",
   "metadata": {},
   "outputs": [
    {
     "name": "stdout",
     "output_type": "stream",
     "text": [
      "Requirement already satisfied: redis in c:\\users\\bhush\\anaconda3\\lib\\site-packages (3.5.3)\n"
     ]
    }
   ],
   "source": [
    "!pip install redis"
   ]
  },
  {
   "cell_type": "code",
   "execution_count": 21,
   "id": "2aab57a2",
   "metadata": {},
   "outputs": [
    {
     "name": "stdout",
     "output_type": "stream",
     "text": [
      "\n"
     ]
    }
   ],
   "source": [
    "import redis\n",
    "conn = redis.Redis()\n",
    "try:\n",
    "    conn.delete('test')\n",
    "except Exception as e:\n",
    "    print()"
   ]
  },
  {
   "cell_type": "code",
   "execution_count": 29,
   "id": "37d6a77b",
   "metadata": {},
   "outputs": [
    {
     "data": {
      "text/plain": [
       "('test', {'count': 1, 'name': 'Fester Bestertester'})"
      ]
     },
     "execution_count": 29,
     "metadata": {},
     "output_type": "execute_result"
    }
   ],
   "source": [
    "# Hmset is deprecated\n",
    "conn.hmset\n",
    "('test'\n",
    ", {'count'\n",
    ": 1, 'name'\n",
    ": 'Fester Bestertester'\n",
    "})"
   ]
  },
  {
   "cell_type": "code",
   "execution_count": 30,
   "id": "1e025a51",
   "metadata": {},
   "outputs": [
    {
     "data": {
      "text/plain": [
       "'test'"
      ]
     },
     "execution_count": 30,
     "metadata": {},
     "output_type": "execute_result"
    }
   ],
   "source": [
    " conn.hgetall\n",
    "('test'\n",
    ")"
   ]
  },
  {
   "cell_type": "markdown",
   "id": "ac29692c",
   "metadata": {},
   "source": [
    "# 10. Increment the count field of test and print it. "
   ]
  },
  {
   "cell_type": "code",
   "execution_count": 31,
   "id": "a944ce59",
   "metadata": {},
   "outputs": [
    {
     "data": {
      "text/plain": [
       "('test', 'count', 3)"
      ]
     },
     "execution_count": 31,
     "metadata": {},
     "output_type": "execute_result"
    }
   ],
   "source": [
    "conn.hincrby\n",
    "('test'\n",
    ", 'count'\n",
    ", 3)"
   ]
  },
  {
   "cell_type": "code",
   "execution_count": 33,
   "id": "9cb656f0",
   "metadata": {},
   "outputs": [
    {
     "name": "stdout",
     "output_type": "stream",
     "text": [
      "Error 10061 connecting to localhost:6379. No connection could be made because the target machine actively refused it.\n"
     ]
    }
   ],
   "source": [
    "try :\n",
    "    conn.hget('test', 'count')\n",
    "except Exception as e:\n",
    "    print(e)"
   ]
  },
  {
   "cell_type": "code",
   "execution_count": null,
   "id": "beba35a7",
   "metadata": {},
   "outputs": [],
   "source": []
  }
 ],
 "metadata": {
  "kernelspec": {
   "display_name": "Python 3",
   "language": "python",
   "name": "python3"
  },
  "language_info": {
   "codemirror_mode": {
    "name": "ipython",
    "version": 3
   },
   "file_extension": ".py",
   "mimetype": "text/x-python",
   "name": "python",
   "nbconvert_exporter": "python",
   "pygments_lexer": "ipython3",
   "version": "3.8.8"
  }
 },
 "nbformat": 4,
 "nbformat_minor": 5
}
