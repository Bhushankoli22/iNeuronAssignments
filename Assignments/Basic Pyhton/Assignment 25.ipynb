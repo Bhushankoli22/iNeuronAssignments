{
 "cells": [
  {
   "cell_type": "markdown",
   "id": "2ca5f84d",
   "metadata": {},
   "source": [
    "# 1) . What is the difference between enclosing a list comprehension in square brackets and parentheses?"
   ]
  },
  {
   "cell_type": "code",
   "execution_count": 1,
   "id": "0b068c0b",
   "metadata": {},
   "outputs": [],
   "source": [
    "# Ans : Square brackets are lists while parentheses are tuples."
   ]
  },
  {
   "cell_type": "markdown",
   "id": "8b5272f8",
   "metadata": {},
   "source": [
    "# 2) What is the relationship between generators and iterators?"
   ]
  },
  {
   "cell_type": "code",
   "execution_count": 4,
   "id": "3098ec81",
   "metadata": {},
   "outputs": [
    {
     "name": "stdout",
     "output_type": "stream",
     "text": [
      "The square of numbers 1,2,3 are : \n",
      "1\n",
      "4\n",
      "9\n"
     ]
    }
   ],
   "source": [
    "# Ans : Generators : It is another way of creating iterators in a simple way where it uses the keyword “yield” \n",
    "#       instead of returning it in a defined function. Generators are implemented using a function. Just as \n",
    "#       iterators, generators also follow lazy evaluation. Here, the yield function returns the data without \n",
    "#       affecting or exiting the function. It will return a sequence of data in an iterable format where we need to \n",
    "#       iterate over the sequence to use the data as they won’t store the entire sequence in the memory.\n",
    "def sq_numbers(n):\n",
    "    for i in range(1, n+1):\n",
    "        yield i*i\n",
    "a = sq_numbers(3)\n",
    "print(\"The square of numbers 1,2,3 are : \")\n",
    "print(next(a))\n",
    "print(next(a))\n",
    "print(next(a))\n"
   ]
  },
  {
   "cell_type": "code",
   "execution_count": 3,
   "id": "0282488c",
   "metadata": {},
   "outputs": [
    {
     "name": "stdout",
     "output_type": "stream",
     "text": [
      "Bhushan\n",
      "Narayan\n",
      "Koli\n"
     ]
    }
   ],
   "source": [
    "# Iterators : An iterator is an object which contains a countable number of values and it is used to iterate over\n",
    "#             iterable objects like list, tuples, sets, etc. Iterators are implemented using a class and a local \n",
    "#             variable for iterating is not required here, It follows lazy evaluation where the evaluation of the \n",
    "#             expression will be on hold and stored in the memory until the item is called specifically which helps \n",
    "#             us to avoid repeated evaluation. \n",
    "iter_list = iter(['Bhushan', 'Narayan', 'Koli'])\n",
    "print(next(iter_list))\n",
    "print(next(iter_list))\n",
    "print(next(iter_list))\n"
   ]
  },
  {
   "cell_type": "markdown",
   "id": "b7adc35c",
   "metadata": {},
   "source": [
    "# 3) What are the signs that a function is a generator function?"
   ]
  },
  {
   "cell_type": "code",
   "execution_count": 5,
   "id": "07df240c",
   "metadata": {},
   "outputs": [],
   "source": [
    "# Ans :  If a function contains at least one yield statement (it may contain other yield or return statements),\n",
    "#        it becomes a generator function."
   ]
  },
  {
   "cell_type": "markdown",
   "id": "14695843",
   "metadata": {},
   "source": [
    "# 4) What is the purpose of a yield statement?"
   ]
  },
  {
   "cell_type": "code",
   "execution_count": 6,
   "id": "6347785f",
   "metadata": {},
   "outputs": [],
   "source": [
    "# Ans : Yield is a keyword in Python that is used to return from a function without destroying the states of its \n",
    "#       local variable and when the function is called, the execution starts from the last yield statement."
   ]
  },
  {
   "cell_type": "markdown",
   "id": "ec269033",
   "metadata": {},
   "source": [
    "# 5) What is the relationship between map calls and list comprehensions? Make a comparison and contrast between the two."
   ]
  },
  {
   "cell_type": "code",
   "execution_count": null,
   "id": "9f17ca85",
   "metadata": {},
   "outputs": [],
   "source": [
    "# Ans : List comprehension is more concise and easier to read as compared to map. List comprehension allows filtering. \n",
    "#       In map, we have no such facility. For example, to print all even numbers in range of 100, we can \n",
    "#       write [n for n in range(100) if n%2 == 0]. There is no alternate for it in map whereas List comprehension are \n",
    "#       used when a list of results is required as map only returns a map object and does not return any list. \n",
    "#       List comprehension is faster than map when we need to evaluate expressions that are too long or\n",
    "#       complicated to express Map is faster in case of calling an already defined function (as no lambda is required)."
   ]
  }
 ],
 "metadata": {
  "kernelspec": {
   "display_name": "Python 3",
   "language": "python",
   "name": "python3"
  },
  "language_info": {
   "codemirror_mode": {
    "name": "ipython",
    "version": 3
   },
   "file_extension": ".py",
   "mimetype": "text/x-python",
   "name": "python",
   "nbconvert_exporter": "python",
   "pygments_lexer": "ipython3",
   "version": "3.8.8"
  }
 },
 "nbformat": 4,
 "nbformat_minor": 5
}
