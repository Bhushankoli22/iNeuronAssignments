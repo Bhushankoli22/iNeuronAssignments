{
 "cells": [
  {
   "cell_type": "markdown",
   "id": "6ee6ecbc",
   "metadata": {},
   "source": [
    "# 1. What advantages do Excel spreadsheets have over CSV spreadsheets?"
   ]
  },
  {
   "cell_type": "code",
   "execution_count": 1,
   "id": "c0feb356",
   "metadata": {},
   "outputs": [],
   "source": [
    "# Ans : In Excel, spreadsheets can have values of data types other than strings; cells can have different fonts, \n",
    "#       sizes, or color settings; cells can have varying widths and heights; adjacent cells can be merged; \n",
    "#       and you can embed images and charts."
   ]
  },
  {
   "cell_type": "markdown",
   "id": "4e5b1a0c",
   "metadata": {},
   "source": [
    "# 2.What do you pass to csv.reader() and csv.writer() to create reader and writer objects?"
   ]
  },
  {
   "cell_type": "code",
   "execution_count": 2,
   "id": "0024b8fa",
   "metadata": {},
   "outputs": [],
   "source": [
    "# Ans : You pass a File object, obtained from a call to open()."
   ]
  },
  {
   "cell_type": "markdown",
   "id": "eb298a59",
   "metadata": {},
   "source": [
    "# 3. What modes do File objects for reader and writer objects need to be opened in?"
   ]
  },
  {
   "cell_type": "code",
   "execution_count": 3,
   "id": "a46dcc84",
   "metadata": {},
   "outputs": [],
   "source": [
    "# Ans : File objects need to be opened in read-binary ('rb') for \n",
    "#       reader objects and write-binary ('wb') for writer objects."
   ]
  },
  {
   "cell_type": "markdown",
   "id": "b68aeea1",
   "metadata": {},
   "source": [
    "# 4. What method takes a list argument and writes it to a CSV file?"
   ]
  },
  {
   "cell_type": "code",
   "execution_count": 4,
   "id": "2754f371",
   "metadata": {},
   "outputs": [],
   "source": [
    "# Ans : The writerow() method take a list argument and writes it to a csv file"
   ]
  },
  {
   "cell_type": "markdown",
   "id": "3bb3d918",
   "metadata": {},
   "source": [
    "# 5. What do the keyword arguments delimiter and line terminator do?"
   ]
  },
  {
   "cell_type": "code",
   "execution_count": 5,
   "id": "f90588dd",
   "metadata": {},
   "outputs": [],
   "source": [
    "# Ans : The delimiter argument changes the string used to separate cells in a row. \n",
    "#       The lineterminator argument changes the string used to separate rows."
   ]
  },
  {
   "cell_type": "markdown",
   "id": "8795c298",
   "metadata": {},
   "source": [
    "# 6. What function takes a string of JSON data and returns a Python data structure?"
   ]
  },
  {
   "cell_type": "code",
   "execution_count": 6,
   "id": "aa126f7d",
   "metadata": {},
   "outputs": [],
   "source": [
    "# Ans : json.loads() is the function that takes a string of JSON data and returns a Python data structure"
   ]
  },
  {
   "cell_type": "markdown",
   "id": "af931339",
   "metadata": {},
   "source": [
    "# 7. What function takes a Python data structure and returns a string of JSON data?"
   ]
  },
  {
   "cell_type": "code",
   "execution_count": null,
   "id": "56784297",
   "metadata": {},
   "outputs": [],
   "source": [
    "# Ans : json.dumps() is the function takes a Python data structure and returns a string of JSON data"
   ]
  }
 ],
 "metadata": {
  "kernelspec": {
   "display_name": "Python 3",
   "language": "python",
   "name": "python3"
  },
  "language_info": {
   "codemirror_mode": {
    "name": "ipython",
    "version": 3
   },
   "file_extension": ".py",
   "mimetype": "text/x-python",
   "name": "python",
   "nbconvert_exporter": "python",
   "pygments_lexer": "ipython3",
   "version": "3.8.8"
  }
 },
 "nbformat": 4,
 "nbformat_minor": 5
}
