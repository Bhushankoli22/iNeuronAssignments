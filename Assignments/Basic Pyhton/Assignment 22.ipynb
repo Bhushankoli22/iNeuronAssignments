{
 "cells": [
  {
   "cell_type": "markdown",
   "id": "4af07ca0",
   "metadata": {},
   "source": [
    "# 1. What is the result of the code, and explain?"
   ]
  },
  {
   "cell_type": "code",
   "execution_count": 1,
   "id": "2f5029cf",
   "metadata": {},
   "outputs": [
    {
     "name": "stdout",
     "output_type": "stream",
     "text": [
      "iNeuron\n"
     ]
    }
   ],
   "source": [
    "X = 'iNeuron'\n",
    "def func():\n",
    "    print(X)\n",
    "func()\n",
    "\n",
    "# Ans : Firstly we are passing the value to variable X. then we are defining a function, \n",
    "#       in it we are printing variable X, and then we are calling that function below.So the value of \n",
    "#       variable gets printed as defined above."
   ]
  },
  {
   "cell_type": "markdown",
   "id": "a99ba885",
   "metadata": {},
   "source": [
    "# 2. What is the result of the code, and explain?"
   ]
  },
  {
   "cell_type": "code",
   "execution_count": null,
   "id": "c3ca4820",
   "metadata": {},
   "outputs": [],
   "source": [
    "X = 'iNeuron'\n",
    "def func():\n",
    "    X = 'Nl!'\n",
    "func()\n",
    "print(X)\n",
    "# Ans : As we can see, X variable is defined with string,and also in the defined func(),X is defined with another value\n",
    "#       still we get the Globall defined variable's value. The scope of X = 'Nl!' is within the func() only."
   ]
  },
  {
   "cell_type": "markdown",
   "id": "5b5b3d76",
   "metadata": {},
   "source": [
    "# 3. What does this code print, and why?"
   ]
  },
  {
   "cell_type": "code",
   "execution_count": 9,
   "id": "09d57b15",
   "metadata": {},
   "outputs": [
    {
     "name": "stdout",
     "output_type": "stream",
     "text": [
      "Nl!\n",
      "iNeuron\n"
     ]
    }
   ],
   "source": [
    "# Ans : AS we can see the scope of variable X = 'Nl!' is within the function only and after that when we \n",
    "#       print X globally, we get the o/p 'iNeuron'\n",
    "X = 'iNeuron'\n",
    "def func():\n",
    "    X = 'Nl!'\n",
    "    print(X)\n",
    "func()\n",
    "print(X)"
   ]
  },
  {
   "cell_type": "markdown",
   "id": "192934e0",
   "metadata": {},
   "source": [
    "# 4. What output does this code produce? Why?"
   ]
  },
  {
   "cell_type": "code",
   "execution_count": 10,
   "id": "e9cbb2ac",
   "metadata": {},
   "outputs": [
    {
     "name": "stdout",
     "output_type": "stream",
     "text": [
      "Nl!\n"
     ]
    }
   ],
   "source": [
    "# Ans : Now here we had defined X inside of the function as global X so whatever the value is stored in that variable \n",
    "#       is now global and thus we got X = 'Nl!' even though it is stated outside the func() \n",
    "X = 'iNeuron'\n",
    "def func():\n",
    "    global X\n",
    "    X = 'Nl!'\n",
    "func()\n",
    "print(X)"
   ]
  },
  {
   "cell_type": "markdown",
   "id": "c37d14a3",
   "metadata": {},
   "source": [
    "# 5. What about this code—what’s the output, and why?"
   ]
  },
  {
   "cell_type": "code",
   "execution_count": 13,
   "id": "5ac81367",
   "metadata": {},
   "outputs": [
    {
     "name": "stdout",
     "output_type": "stream",
     "text": [
      "iNeuron\n"
     ]
    }
   ],
   "source": [
    "# Ans : As the X = 'iNeuron' is defined in Nested function, it is saved in that function also and when we print(X),\n",
    "#       inside of the function, it stays within it. Thus, we get X = 'iNeuron' \n",
    "X = 'iNeuron'\n",
    "def func():\n",
    "    X = 'Nl!'\n",
    "def nested():\n",
    "    print(X)\n",
    "    nested()\n",
    "func()\n",
    "print(X)"
   ]
  },
  {
   "cell_type": "markdown",
   "id": "062ddbb6",
   "metadata": {},
   "source": [
    "# 6. How about this code: what is its output in Python 3, and explain?"
   ]
  },
  {
   "cell_type": "code",
   "execution_count": 23,
   "id": "566b895b",
   "metadata": {},
   "outputs": [],
   "source": [
    "# Ans : We can say, The nonlocal statement changes the value of variables in the enclosing function. \n",
    "#       The nonlocal statement has no effect for the global scope.\n",
    "def func():\n",
    "    X = 'Nl'\n",
    "def nested():\n",
    "    nonlocal X\n",
    "    X = 'Spam'\n",
    "    nested()\n",
    "    print(X)\n",
    "func()"
   ]
  }
 ],
 "metadata": {
  "kernelspec": {
   "display_name": "Python 3",
   "language": "python",
   "name": "python3"
  },
  "language_info": {
   "codemirror_mode": {
    "name": "ipython",
    "version": 3
   },
   "file_extension": ".py",
   "mimetype": "text/x-python",
   "name": "python",
   "nbconvert_exporter": "python",
   "pygments_lexer": "ipython3",
   "version": "3.8.8"
  }
 },
 "nbformat": 4,
 "nbformat_minor": 5
}
