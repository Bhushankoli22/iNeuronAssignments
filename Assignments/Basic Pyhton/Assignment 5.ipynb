{
 "cells": [
  {
   "cell_type": "markdown",
   "id": "14bb30d6",
   "metadata": {},
   "source": [
    "# 1. What does an empty dictionary's code look like?"
   ]
  },
  {
   "cell_type": "markdown",
   "id": "6b3dadff",
   "metadata": {},
   "source": [
    "### Answer : We can define code like two empty curly brackets {}"
   ]
  },
  {
   "cell_type": "markdown",
   "id": "c39d2b71",
   "metadata": {},
   "source": [
    "# 2. What is the value of a dictionary value with the key 'foo' and the value 42?"
   ]
  },
  {
   "cell_type": "code",
   "execution_count": 2,
   "id": "b92e2e8d",
   "metadata": {},
   "outputs": [
    {
     "data": {
      "text/plain": [
       "{'foo': 42}"
      ]
     },
     "execution_count": 2,
     "metadata": {},
     "output_type": "execute_result"
    }
   ],
   "source": [
    "{'foo' : 42} \n",
    "# In here Key is 'foo' and value is '42' "
   ]
  },
  {
   "cell_type": "markdown",
   "id": "08f01528",
   "metadata": {},
   "source": [
    "# 3. What is the most significant distinction between a dictionary and a list?"
   ]
  },
  {
   "cell_type": "markdown",
   "id": "295972ed",
   "metadata": {},
   "source": [
    "### Answer : The elements or items in the dictionary are unordered whereas the items in a List are ordered. Also the items in Dictionary are accessed by Keys and in list the items are accessed by their posistions"
   ]
  },
  {
   "cell_type": "markdown",
   "id": "e4d29338",
   "metadata": {},
   "source": [
    "# 4. What happens if you try to access spam['foo'] if spam is {'bar': 100}?"
   ]
  },
  {
   "cell_type": "code",
   "execution_count": 3,
   "id": "c519f2cc",
   "metadata": {},
   "outputs": [],
   "source": [
    "spam = {'bar' : 100}"
   ]
  },
  {
   "cell_type": "code",
   "execution_count": 4,
   "id": "e06e0059",
   "metadata": {},
   "outputs": [
    {
     "ename": "KeyError",
     "evalue": "'foo'",
     "output_type": "error",
     "traceback": [
      "\u001b[1;31m---------------------------------------------------------------------------\u001b[0m",
      "\u001b[1;31mKeyError\u001b[0m                                  Traceback (most recent call last)",
      "\u001b[1;32m<ipython-input-4-9b5a94d1de8d>\u001b[0m in \u001b[0;36m<module>\u001b[1;34m\u001b[0m\n\u001b[1;32m----> 1\u001b[1;33m \u001b[0mspam\u001b[0m\u001b[1;33m[\u001b[0m\u001b[1;34m'foo'\u001b[0m\u001b[1;33m]\u001b[0m\u001b[1;33m\u001b[0m\u001b[1;33m\u001b[0m\u001b[0m\n\u001b[0m",
      "\u001b[1;31mKeyError\u001b[0m: 'foo'"
     ]
    }
   ],
   "source": [
    "spam['foo']\n",
    "# We get a Key Error Error"
   ]
  },
  {
   "cell_type": "markdown",
   "id": "1aff339c",
   "metadata": {},
   "source": [
    "# 5. If a dictionary is stored in spam, what is the difference between the expressions 'cat' in spam and 'cat' in spam.keys()?"
   ]
  },
  {
   "cell_type": "markdown",
   "id": "4ec1fb11",
   "metadata": {},
   "source": [
    "# 6. If a dictionary is stored in spam, what is the difference between the expressions 'cat' in spam and 'cat' in spam.values()?"
   ]
  },
  {
   "cell_type": "markdown",
   "id": "2b7bffd6",
   "metadata": {},
   "source": [
    "### Answer : The 'cat' in spam checks whether there is a 'cat' key in the dictionary, while 'cat' in spam.values() checks whether there is a value 'cat' for one of the keys in spam."
   ]
  },
  {
   "cell_type": "markdown",
   "id": "2b1530b1",
   "metadata": {},
   "source": [
    "# 7. What is a shortcut for the following code? if 'color' not in spam: spam['color'] = 'black'"
   ]
  },
  {
   "cell_type": "markdown",
   "id": "9c40f0ed",
   "metadata": {},
   "source": [
    "### Answer : spam.setdefault('color', 'black')"
   ]
  },
  {
   "cell_type": "markdown",
   "id": "960dc125",
   "metadata": {},
   "source": [
    "# 8. How do you \"pretty print\" dictionary values using which module and function?"
   ]
  },
  {
   "cell_type": "markdown",
   "id": "88ef5683",
   "metadata": {},
   "source": [
    "### Answer : pprint.pprint()"
   ]
  },
  {
   "cell_type": "code",
   "execution_count": 30,
   "id": "c617337c",
   "metadata": {},
   "outputs": [
    {
     "name": "stdout",
     "output_type": "stream",
     "text": [
      "{'one': 1, 'two': 2}\n"
     ]
    }
   ],
   "source": [
    "d = {'one': 1,'two':2}\n",
    "print(d)"
   ]
  }
 ],
 "metadata": {
  "kernelspec": {
   "display_name": "Python 3",
   "language": "python",
   "name": "python3"
  },
  "language_info": {
   "codemirror_mode": {
    "name": "ipython",
    "version": 3
   },
   "file_extension": ".py",
   "mimetype": "text/x-python",
   "name": "python",
   "nbconvert_exporter": "python",
   "pygments_lexer": "ipython3",
   "version": "3.8.8"
  }
 },
 "nbformat": 4,
 "nbformat_minor": 5
}
