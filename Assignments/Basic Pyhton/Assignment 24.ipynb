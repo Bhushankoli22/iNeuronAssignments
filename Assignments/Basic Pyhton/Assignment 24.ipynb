{
 "cells": [
  {
   "cell_type": "markdown",
   "id": "340558ff",
   "metadata": {},
   "source": [
    "# 1. What is the relationship between def statements and lambda expressions ?"
   ]
  },
  {
   "cell_type": "code",
   "execution_count": 1,
   "id": "1cb05fad",
   "metadata": {},
   "outputs": [],
   "source": [
    "# Ans : The only difference is that \n",
    "#       (a) the body of a lambda can consist of only a single expression, the result of which is returned from the \n",
    "#       function created.\n",
    "#       (b) a lambda expression is an expression which evaluates to a function object, while a def statement \n",
    "#       has no value, and creates a function object and binds it to a name."
   ]
  },
  {
   "cell_type": "markdown",
   "id": "b161d2f3",
   "metadata": {},
   "source": [
    "# 2. What is the benefit of lambda?"
   ]
  },
  {
   "cell_type": "code",
   "execution_count": 2,
   "id": "20f8ba32",
   "metadata": {},
   "outputs": [],
   "source": [
    "# Ans : The lambda keyword in Python provides a shortcut for declaring small anonymous functions. \n",
    "#       And Lambda functions behave just like regular functions declared with the def keyword. \n",
    "#       Also They can be used whenever function objects are required.\n"
   ]
  },
  {
   "cell_type": "markdown",
   "id": "6bac56ee",
   "metadata": {},
   "source": [
    "# 3. Compare and contrast map, filter, and reduce."
   ]
  },
  {
   "cell_type": "code",
   "execution_count": 5,
   "id": "1e8bbfc3",
   "metadata": {},
   "outputs": [
    {
     "data": {
      "text/plain": [
       "['0',\n",
       " '1',\n",
       " '2',\n",
       " '3',\n",
       " '4',\n",
       " '5',\n",
       " '6',\n",
       " '7',\n",
       " '8',\n",
       " '9',\n",
       " '10',\n",
       " '11',\n",
       " '12',\n",
       " '13',\n",
       " '14',\n",
       " '15',\n",
       " '16',\n",
       " '17',\n",
       " '18',\n",
       " '19']"
      ]
     },
     "execution_count": 5,
     "metadata": {},
     "output_type": "execute_result"
    }
   ],
   "source": [
    "# Ans : Map Syntax : map(function,*sequence)\n",
    "\n",
    "#       map() applies the function it receives as an argument to each element in a sequence\n",
    "#       and returns the resulting sequence. In the example below, we create a list of integers\n",
    "#       and using map() and str() function, we cast each integer into a string. \n",
    "#       The output is a list of strings.\n",
    "sequence = list(range(20))\n",
    "list(map(str,sequence))"
   ]
  },
  {
   "cell_type": "code",
   "execution_count": 7,
   "id": "92a033e4",
   "metadata": {},
   "outputs": [
    {
     "data": {
      "text/plain": [
       "['India and Japan', 'Finland']"
      ]
     },
     "execution_count": 7,
     "metadata": {},
     "output_type": "execute_result"
    }
   ],
   "source": [
    "#       Filter Syntax : filter(function, *sequence)\n",
    "\n",
    "#       filter() takes a function called a predicate that returns “True” if an element passes the condition stated \n",
    "#       in the predicate, and “False” otherwise. The filter() function’s output consists of the elements of the \n",
    "#       original sequence that pass the predicate.In the code below, we use the filter() function on a sequence of \n",
    "#       countries to filter out the countries with names that don’t contain the string “and.”\n",
    "\n",
    "countries = ['India and Japan','Finland','Saudi']\n",
    "list(filter(lambda x: \"and\" in x, countries))"
   ]
  },
  {
   "cell_type": "code",
   "execution_count": 12,
   "id": "e14c290e",
   "metadata": {},
   "outputs": [
    {
     "data": {
      "text/plain": [
       "654729075"
      ]
     },
     "execution_count": 12,
     "metadata": {},
     "output_type": "execute_result"
    }
   ],
   "source": [
    "#       Reduce Syntax : reduce(function,*sequence)\n",
    "\n",
    "#       reduce() applies the function to the elements of the sequence, from left to right, starting with the first \n",
    "#       two elements in the sequence. We combine the result of applying the function to the sequence’s first two \n",
    "#       elements with the third element and pass them to another call of the same function. This process repeats \n",
    "#       until we reach the end of the iterable and the iterable reduces to a single value. \n",
    "\n",
    "from functools import reduce\n",
    "numbers = list(range(1,20,2))\n",
    "reduce(lambda x, y: x*y, numbers)"
   ]
  },
  {
   "cell_type": "markdown",
   "id": "afcaa23f",
   "metadata": {},
   "source": [
    "# 4. What are function annotations, and how are they used?"
   ]
  },
  {
   "cell_type": "code",
   "execution_count": 13,
   "id": "4ae23e63",
   "metadata": {},
   "outputs": [],
   "source": [
    "# Ans : Function annotations are completely optional both for parameters and return value. \n",
    "#       Function annotations provide a way of associating various parts of a function \n",
    "#       with arbitrary python expressions at compile time."
   ]
  },
  {
   "cell_type": "markdown",
   "id": "de6eff87",
   "metadata": {},
   "source": [
    "# 5. What are recursive functions, and how are they used?"
   ]
  },
  {
   "cell_type": "code",
   "execution_count": 14,
   "id": "c775895b",
   "metadata": {},
   "outputs": [
    {
     "name": "stdout",
     "output_type": "stream",
     "text": [
      "The factorial of 3 is 6\n"
     ]
    }
   ],
   "source": [
    "# Ans : Recursion is the process of defining something in terms of itself.\n",
    "#       A physical world example would be to place two parallel mirrors facing each other. \n",
    "#       Any object in between them would be reflected recursively.\n",
    "def factorial(x):\n",
    "    if x == 1:\n",
    "        return 1\n",
    "    else:\n",
    "        return (x * factorial(x-1))\n",
    "num = 3\n",
    "print(\"The factorial of\", num, \"is\", factorial(num))"
   ]
  },
  {
   "cell_type": "markdown",
   "id": "1af176c6",
   "metadata": {},
   "source": [
    "# 6. What are some general design guidelines for coding functions?"
   ]
  },
  {
   "cell_type": "code",
   "execution_count": 15,
   "id": "25caa37c",
   "metadata": {},
   "outputs": [],
   "source": [
    "# Ans : Well, I can say , Write as few lines as possible. One should Use appropriate naming conventions. \n",
    "#       Segment blocks of code in the same section into paragraphs. Use indentation to marks the beginning and \n",
    "#       end of control structures. Don't use lengthy functions. Use the DRY (Don't Repeat Yourself) principle. \n",
    "#       Avoid Deep Nesting."
   ]
  },
  {
   "cell_type": "markdown",
   "id": "b6e993f0",
   "metadata": {},
   "source": [
    "# 7. Name three or more ways that functions can communicate results to a caller."
   ]
  },
  {
   "cell_type": "code",
   "execution_count": null,
   "id": "dcbe4aa9",
   "metadata": {},
   "outputs": [],
   "source": [
    "# Ans : Ways to communicate Functions and callers in Python :\n",
    "#       Python Function with no argument and no return value. Function with no argument and with a Return value.\n",
    "#       Python Function with argument and No Return value. Function with argument and return value.\n"
   ]
  }
 ],
 "metadata": {
  "kernelspec": {
   "display_name": "Python 3",
   "language": "python",
   "name": "python3"
  },
  "language_info": {
   "codemirror_mode": {
    "name": "ipython",
    "version": 3
   },
   "file_extension": ".py",
   "mimetype": "text/x-python",
   "name": "python",
   "nbconvert_exporter": "python",
   "pygments_lexer": "ipython3",
   "version": "3.8.8"
  }
 },
 "nbformat": 4,
 "nbformat_minor": 5
}
