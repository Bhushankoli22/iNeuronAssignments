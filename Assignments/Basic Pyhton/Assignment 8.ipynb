{
 "cells": [
  {
   "cell_type": "markdown",
   "id": "14f2a06c",
   "metadata": {},
   "source": [
    "# 1. Is the Python Standard Library included with PyInputPlus?"
   ]
  },
  {
   "cell_type": "code",
   "execution_count": 1,
   "id": "599f47ad",
   "metadata": {},
   "outputs": [],
   "source": [
    "# Ans: No.PyInputPlus is a third-party module and doesn’t come with the Python Standard Library."
   ]
  },
  {
   "cell_type": "markdown",
   "id": "aff7faad",
   "metadata": {},
   "source": [
    "# 2. Why is PyInputPlus commonly imported with import pyinputplus as pypi? "
   ]
  },
  {
   "cell_type": "code",
   "execution_count": 2,
   "id": "b461a440",
   "metadata": {},
   "outputs": [],
   "source": [
    "# Ans : This optionally makes your code shorter to type: you can type pyip.inputStr() instead of \n",
    "#       pyinputplus.inputStr()."
   ]
  },
  {
   "cell_type": "markdown",
   "id": "3860e9dd",
   "metadata": {},
   "source": [
    "# 3. How do you distinguish between inputInt() and inputFloat()?"
   ]
  },
  {
   "cell_type": "code",
   "execution_count": 3,
   "id": "0eddd56e",
   "metadata": {},
   "outputs": [],
   "source": [
    "# Ans : The inputInt() function returns an int value, while the inputFloat() function returns a float value. \n",
    "#       This is the difference between returning 4 and 4.0."
   ]
  },
  {
   "cell_type": "markdown",
   "id": "ee955c4a",
   "metadata": {},
   "source": [
    "# 4. Using PyInputPlus, how do you ensure that the user enters a whole number between 0 and 99?"
   ]
  },
  {
   "cell_type": "code",
   "execution_count": 4,
   "id": "b4207aaa",
   "metadata": {},
   "outputs": [],
   "source": [
    "# Ans : Call pyip.inputint(min=0, max=99)."
   ]
  },
  {
   "cell_type": "markdown",
   "id": "9d92aa53",
   "metadata": {},
   "source": [
    "# 5. What is transferred to the keyword arguments allowRegexes and blockRegexes?"
   ]
  },
  {
   "cell_type": "code",
   "execution_count": 5,
   "id": "d75c6108",
   "metadata": {},
   "outputs": [],
   "source": [
    "# Ans : A list of regex strings that are either explicitly allowed or denied"
   ]
  },
  {
   "cell_type": "markdown",
   "id": "00c7394a",
   "metadata": {},
   "source": [
    "# 6. If a blank input is entered three times, what does inputStr(limit=3) do?"
   ]
  },
  {
   "cell_type": "code",
   "execution_count": 6,
   "id": "91802421",
   "metadata": {},
   "outputs": [],
   "source": [
    "# Ans : The function will raise RetryLimitException."
   ]
  },
  {
   "cell_type": "markdown",
   "id": "1adee7fb",
   "metadata": {},
   "source": [
    "# 7. If blank input is entered three times, what does inputStr(limit=3, default='hello') do?"
   ]
  },
  {
   "cell_type": "code",
   "execution_count": 7,
   "id": "ade58eca",
   "metadata": {},
   "outputs": [],
   "source": [
    "# Ans : The function returns the value 'hello'."
   ]
  }
 ],
 "metadata": {
  "kernelspec": {
   "display_name": "Python 3",
   "language": "python",
   "name": "python3"
  },
  "language_info": {
   "codemirror_mode": {
    "name": "ipython",
    "version": 3
   },
   "file_extension": ".py",
   "mimetype": "text/x-python",
   "name": "python",
   "nbconvert_exporter": "python",
   "pygments_lexer": "ipython3",
   "version": "3.8.8"
  }
 },
 "nbformat": 4,
 "nbformat_minor": 5
}
