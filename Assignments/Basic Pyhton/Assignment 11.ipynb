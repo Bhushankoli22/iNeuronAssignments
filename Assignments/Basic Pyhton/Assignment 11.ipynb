{
 "cells": [
  {
   "cell_type": "markdown",
   "id": "7bfa156a",
   "metadata": {},
   "source": [
    "# 1. Create an assert statement that throws an AssertionError if the variable spam is a negative integer."
   ]
  },
  {
   "cell_type": "code",
   "execution_count": 1,
   "id": "f1b44ad4",
   "metadata": {},
   "outputs": [],
   "source": [
    "# Ans : assert spam >= 10, 'The spam variable is less than 10.'"
   ]
  },
  {
   "cell_type": "markdown",
   "id": "ad82fbc9",
   "metadata": {},
   "source": [
    "# 2. Write an assert statement that triggers an AssertionError if the variables eggs and bacon contain strings that are the same as each other, even if their cases are different (that is, 'hello' and 'hello' are considered the same, and 'goodbye' and 'GOODbye' are also considered the same)."
   ]
  },
  {
   "cell_type": "code",
   "execution_count": 2,
   "id": "8233bf54",
   "metadata": {},
   "outputs": [],
   "source": [
    "# Ans : Either assert eggs.lower() != bacon.lower() 'The eggs and bacon variables are the same!' \n",
    "#       or assert eggs.upper() != bacon.upper(), 'The eggs and bacon variables are the same!'"
   ]
  },
  {
   "cell_type": "markdown",
   "id": "9e5e1b99",
   "metadata": {},
   "source": [
    "# 3. Create an assert statement that throws an AssertionError every time."
   ]
  },
  {
   "cell_type": "code",
   "execution_count": 3,
   "id": "72444e14",
   "metadata": {},
   "outputs": [],
   "source": [
    "# Ans : assert False, 'This assertion always triggers.'"
   ]
  },
  {
   "cell_type": "markdown",
   "id": "d86c05f5",
   "metadata": {},
   "source": [
    "# 4. What are the two lines that must be present in your software in order to call logging.debug()?"
   ]
  },
  {
   "cell_type": "code",
   "execution_count": 6,
   "id": "0be7dfbf",
   "metadata": {},
   "outputs": [],
   "source": [
    "# Ans : To be able to call logging.debug(), you must have these two lines at the start of your program:\n",
    "import logging\n",
    "logging.basicConfig(level=logging.DEBUG, format=' %(asctime)s - %(levelname)s - %(message)s')"
   ]
  },
  {
   "cell_type": "markdown",
   "id": "ff711964",
   "metadata": {},
   "source": [
    "# 5. What are the two lines that your program must have in order to have logging.debug() send a logging message to a file named programLog.txt? "
   ]
  },
  {
   "cell_type": "code",
   "execution_count": 9,
   "id": "28e26829",
   "metadata": {},
   "outputs": [],
   "source": [
    "# Ans : To be able to send logging messages to a file named programLog.txt with logging.debug(), \n",
    "#       you must have these two lines at the start of your program:\n",
    "\n",
    "import logging\n",
    "logging.basicConfig(filename='programLog.txt', level=logging.DEBUG,\n",
    "format=' %(asctime)s -  %(levelname)s -  %(message)s')"
   ]
  },
  {
   "cell_type": "markdown",
   "id": "2b1ac610",
   "metadata": {},
   "source": [
    "# 6. What are the five levels of logging?"
   ]
  },
  {
   "cell_type": "code",
   "execution_count": 10,
   "id": "842f10c4",
   "metadata": {},
   "outputs": [],
   "source": [
    "# Ans :  DEBUG, INFO, WARNING, ERROR, and CRITICAL are the 5 levels of Logging "
   ]
  },
  {
   "cell_type": "markdown",
   "id": "9a4369ff",
   "metadata": {},
   "source": [
    "# 7. What line of code would you add to your software to disable all logging messages?"
   ]
  },
  {
   "cell_type": "code",
   "execution_count": 11,
   "id": "3b66fb3e",
   "metadata": {},
   "outputs": [],
   "source": [
    "# Ans : logging.disable(logging.CRITICAL) can be added to disable all logging messages"
   ]
  },
  {
   "cell_type": "markdown",
   "id": "ef13cd3d",
   "metadata": {},
   "source": [
    "# 8.Why is using logging messages better than using print() to display the same message?"
   ]
  },
  {
   "cell_type": "code",
   "execution_count": 12,
   "id": "1eee95be",
   "metadata": {},
   "outputs": [],
   "source": [
    "# Ans : We can disable logging messages without removing the logging function calls. \n",
    "#       We can also selectively disable lower-level logging messages. \n",
    "#       So , We can create logging messages. Logging messages provides a timestamp."
   ]
  },
  {
   "cell_type": "markdown",
   "id": "78ad601e",
   "metadata": {},
   "source": [
    "# 9. What are the differences between the Step Over, Step In, and Step Out buttons in the debugger?"
   ]
  },
  {
   "cell_type": "code",
   "execution_count": 13,
   "id": "047dcb0d",
   "metadata": {},
   "outputs": [],
   "source": [
    "# Ans : The Step In button will move the debugger into a function call. The Step Over button will quickly execute \n",
    "#       the function call without stepping into it. The Step Out button will quickly execute the rest of the \n",
    "#       code until it steps out of the function it currently is in."
   ]
  },
  {
   "cell_type": "markdown",
   "id": "79c05913",
   "metadata": {},
   "source": [
    "# 10.After you click Continue, when will the debugger stop ?"
   ]
  },
  {
   "cell_type": "code",
   "execution_count": 14,
   "id": "a2719eeb",
   "metadata": {},
   "outputs": [],
   "source": [
    "# Ans : After you click Continue, the debugger will stop when \n",
    "#       it has reached the end of the program or a line with a breakpoint."
   ]
  },
  {
   "cell_type": "markdown",
   "id": "9ca9caf7",
   "metadata": {},
   "source": [
    "# 11. What is the concept of a breakpoint?"
   ]
  },
  {
   "cell_type": "code",
   "execution_count": 15,
   "id": "95f7a52b",
   "metadata": {},
   "outputs": [],
   "source": [
    "# Ans : A breakpoint is a setting on a line of code that causes the debugger to pause when the program execution \n",
    "#       reaches the line. Also To set a breakpoint in Mu, click the line number to make a red dot appear next to it."
   ]
  }
 ],
 "metadata": {
  "kernelspec": {
   "display_name": "Python 3",
   "language": "python",
   "name": "python3"
  },
  "language_info": {
   "codemirror_mode": {
    "name": "ipython",
    "version": 3
   },
   "file_extension": ".py",
   "mimetype": "text/x-python",
   "name": "python",
   "nbconvert_exporter": "python",
   "pygments_lexer": "ipython3",
   "version": "3.8.8"
  }
 },
 "nbformat": 4,
 "nbformat_minor": 5
}
