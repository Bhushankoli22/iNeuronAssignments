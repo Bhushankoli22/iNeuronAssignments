{
 "cells": [
  {
   "cell_type": "markdown",
   "id": "cf3242e0",
   "metadata": {},
   "source": [
    "# 1) Why are Functions advantageous in the program?"
   ]
  },
  {
   "cell_type": "markdown",
   "id": "cbc96190",
   "metadata": {},
   "source": [
    "## Answer: Functions helps in decresing the re-usability of code. It also saves the time and increases the readibility of our code. With the help of functions, the program gets easier to read,update, shorter in length, divides a complex code into smaller and understandable pieces. It also helps in reducing the chances of errors."
   ]
  },
  {
   "cell_type": "markdown",
   "id": "0f0330d9",
   "metadata": {},
   "source": [
    "# 2) When does the code in a function run: When it's specified or when it's called?"
   ]
  },
  {
   "cell_type": "markdown",
   "id": "04b93cd8",
   "metadata": {},
   "source": [
    "## Answer: The code in a function runs only when the function is called or invoked. It doesn't run just by specifying it. "
   ]
  },
  {
   "cell_type": "markdown",
   "id": "e5a1f20e",
   "metadata": {},
   "source": [
    "# 3) What statement creates a function?"
   ]
  },
  {
   "cell_type": "code",
   "execution_count": 1,
   "id": "645461f1",
   "metadata": {},
   "outputs": [],
   "source": [
    "# Answer: Below mentioned is the Add Function. write def keyword and then function name and then pass the parameters\n",
    "def add(a,b):\n",
    "    print(\"Addition of two numbers is \",a+b)"
   ]
  },
  {
   "cell_type": "code",
   "execution_count": 2,
   "id": "7a7cd5e0",
   "metadata": {},
   "outputs": [
    {
     "name": "stdout",
     "output_type": "stream",
     "text": [
      "Addition of two numbers is  6\n"
     ]
    }
   ],
   "source": [
    "# Call the Function and give 2 parameters for the desired output\n",
    "add(2,4)"
   ]
  },
  {
   "cell_type": "markdown",
   "id": "26c1d3c9",
   "metadata": {},
   "source": [
    "# 4) What is the difference between a function and a function call?\n"
   ]
  },
  {
   "cell_type": "markdown",
   "id": "3192037c",
   "metadata": {},
   "source": [
    "## Answer: A Function is a set of code we write to ease the functionality and readability of program. As above mentioned I had created a Add Function and in that Addition functionality is given. So to perform that particular task, we need to call the function and thus by calling a function , we can carry out addition functionality in the program."
   ]
  },
  {
   "cell_type": "markdown",
   "id": "37bffe8e",
   "metadata": {},
   "source": [
    "# 5) How many global scopes are there in a Python program? How many local scopes?"
   ]
  },
  {
   "cell_type": "markdown",
   "id": "ef22b650",
   "metadata": {},
   "source": [
    "## Answer: There is only one Global Scope in Python program and there are these remaining types of scopes named Local scope, Enclosed scope and Built-in scope."
   ]
  },
  {
   "cell_type": "markdown",
   "id": "475ff89c",
   "metadata": {},
   "source": [
    "# 6) What happens to variables in a local scope when the function call returns?"
   ]
  },
  {
   "cell_type": "markdown",
   "id": "f786cb13",
   "metadata": {},
   "source": [
    "## Answer: When the fuction calls return , The local variables are destroyed. "
   ]
  },
  {
   "cell_type": "markdown",
   "id": "708532b0",
   "metadata": {},
   "source": [
    "# 7) What is the concept of a return value? Is it possible to have a return value in an expression?"
   ]
  },
  {
   "cell_type": "markdown",
   "id": "124f245c",
   "metadata": {},
   "source": [
    "## Answer: The return keyword is used inside a function or method to send function's result back to the caller function. So the value which is to be returned in return is called return value. yes its possible to have a return value in an expression."
   ]
  },
  {
   "cell_type": "markdown",
   "id": "5ab88637",
   "metadata": {},
   "source": [
    "# 8)  If a function does not have a return statement, what is the return value of a call to that function?"
   ]
  },
  {
   "cell_type": "markdown",
   "id": "1002591a",
   "metadata": {},
   "source": [
    "## Answer:  The return value of a call to that function is None."
   ]
  },
  {
   "cell_type": "markdown",
   "id": "1556277c",
   "metadata": {},
   "source": [
    "# 9) How do you make a function variable refer to the global variable?"
   ]
  },
  {
   "cell_type": "markdown",
   "id": "3cf6b9da",
   "metadata": {},
   "source": [
    "## Answer: The global keyword is used to declare the variables as global."
   ]
  },
  {
   "cell_type": "code",
   "execution_count": 14,
   "id": "55f555a1",
   "metadata": {},
   "outputs": [],
   "source": [
    "b = 10;\n",
    "def func1():\n",
    "    b = 34;\n",
    "def func2():\n",
    "    print(b)"
   ]
  },
  {
   "cell_type": "code",
   "execution_count": 15,
   "id": "a5a4ca5a",
   "metadata": {},
   "outputs": [
    {
     "name": "stdout",
     "output_type": "stream",
     "text": [
      "10\n"
     ]
    }
   ],
   "source": [
    "# The global varibale is b and its value is 10\n",
    "func2()"
   ]
  },
  {
   "cell_type": "markdown",
   "id": "a3b01f39",
   "metadata": {},
   "source": [
    "# 10) What is the data type of None?\n"
   ]
  },
  {
   "cell_type": "markdown",
   "id": "97df86be",
   "metadata": {},
   "source": [
    "## Answer: The data type of None is NoneType Object. "
   ]
  },
  {
   "cell_type": "markdown",
   "id": "ea1e2fc9",
   "metadata": {},
   "source": [
    "# 11) What does the sentence import areallyourpetsnamederic do?"
   ]
  },
  {
   "cell_type": "markdown",
   "id": "f3ac5e40",
   "metadata": {},
   "source": [
    "## Answer: It imports a module named areallyourpetsnamederic. (As mentioned everywhere It isn't a real Python module.)"
   ]
  },
  {
   "cell_type": "markdown",
   "id": "d6794c76",
   "metadata": {},
   "source": [
    "# 12)  If you had a bacon() feature in a spam module, what would you call it after importing spam?"
   ]
  },
  {
   "cell_type": "markdown",
   "id": "67dac90b",
   "metadata": {},
   "source": [
    "## Answer: If we had a bacon() feature in a spam module, we can call it by importing spam.bacon()"
   ]
  },
  {
   "cell_type": "markdown",
   "id": "afe67946",
   "metadata": {},
   "source": [
    "# 13) What can you do to save a programme from crashing if it encounters an error?"
   ]
  },
  {
   "cell_type": "markdown",
   "id": "b768c3b7",
   "metadata": {},
   "source": [
    "## Answer: We can save the programme from crashing by handling the errors using Exception Handling or try catch mathod."
   ]
  },
  {
   "cell_type": "markdown",
   "id": "89a709e6",
   "metadata": {},
   "source": [
    "# 14. What is the purpose of the try clause? What is the purpose of the except clause?"
   ]
  },
  {
   "cell_type": "markdown",
   "id": "d775c37d",
   "metadata": {},
   "source": [
    "## Answer: The try block or try clause is used to test particular set of code, whether it gets any error or not and The purpose of except clause is that it handles particular exceptions and allows the program to run without any errors. "
   ]
  }
 ],
 "metadata": {
  "kernelspec": {
   "display_name": "Python 3",
   "language": "python",
   "name": "python3"
  },
  "language_info": {
   "codemirror_mode": {
    "name": "ipython",
    "version": 3
   },
   "file_extension": ".py",
   "mimetype": "text/x-python",
   "name": "python",
   "nbconvert_exporter": "python",
   "pygments_lexer": "ipython3",
   "version": "3.8.8"
  }
 },
 "nbformat": 4,
 "nbformat_minor": 5
}
