{
 "cells": [
  {
   "cell_type": "markdown",
   "id": "65710fc5",
   "metadata": {},
   "source": [
    "# 1. How do you distinguish between shutil.copy() and shutil.copytree()?"
   ]
  },
  {
   "cell_type": "code",
   "execution_count": 1,
   "id": "5d9c5dd8",
   "metadata": {},
   "outputs": [],
   "source": [
    "# Ans : The shutil.copy() function will copy a single file, \n",
    "#       while shutil.copytree() will copy an entire folder, along with all its contents."
   ]
  },
  {
   "cell_type": "markdown",
   "id": "aff378ee",
   "metadata": {},
   "source": [
    "# 2. What function is used to rename files??"
   ]
  },
  {
   "cell_type": "code",
   "execution_count": 2,
   "id": "74becd81",
   "metadata": {},
   "outputs": [],
   "source": [
    "# Ans : The shutil.move() function is used for renaming files as well as moving them."
   ]
  },
  {
   "cell_type": "markdown",
   "id": "3caece27",
   "metadata": {},
   "source": [
    "# 3. What is the difference between the delete functions in the send2trash and shutil modules?"
   ]
  },
  {
   "cell_type": "code",
   "execution_count": 3,
   "id": "4e679be1",
   "metadata": {},
   "outputs": [],
   "source": [
    "# Ans : The send2trash functions will move a file or folder to the recycle bin means temporarily delete a file,\n",
    "#       while shutil functions will permanently delete files and folders."
   ]
  },
  {
   "cell_type": "markdown",
   "id": "20e05f8b",
   "metadata": {},
   "source": [
    "# 4.ZipFile objects have a close() method just like File objects’ close() method. What ZipFile method is equivalent to File objects’ open() method?"
   ]
  },
  {
   "cell_type": "code",
   "execution_count": 4,
   "id": "4f7f6bdf",
   "metadata": {},
   "outputs": [],
   "source": [
    "# Ans :  The zipfile.ZipFile() function is equivalent to the open() function; \n",
    "#        the first argument is the filename, and the second argument is the mode to open the ZIP file in\n",
    "#        (read, write, or append)."
   ]
  },
  {
   "cell_type": "markdown",
   "id": "15b4e4ec",
   "metadata": {},
   "source": [
    "# 5. Create a programme that searches a folder tree for files with a certain file extension (such as .pdf or .jpg). Copy these files from whatever location they are in to a new folder."
   ]
  },
  {
   "cell_type": "code",
   "execution_count": 16,
   "id": "a068d1f3",
   "metadata": {},
   "outputs": [
    {
     "name": "stdout",
     "output_type": "stream",
     "text": [
      "Looking in C:\\Users\\bhush\\iNeuron\\Assignments\\Basic Pyhton\\randomFolder for files with extensions of .pdf, .jpeg\n",
      "Copying C:\\Users\\bhush\\iNeuron\\Assignments\\Basic Pyhton\\randomFolder\\okayokay.jpeg to C:\\Users\\bhush\\iNeuron\\Assignments\\Basic Pyhton\\Demo\n"
     ]
    }
   ],
   "source": [
    "# Ans : \n",
    "import os, shutil\n",
    "def selectiveCopy(folder, extensions, destFolder):\n",
    "    folder = os.path.abspath(folder)\n",
    "    destFolder = os.path.abspath(destFolder)\n",
    "    print('Looking in', folder, 'for files with extensions of', ', '.join(extensions))\n",
    "    for foldername, subfolders, filenames in os.walk(folder):\n",
    "        for filename in filenames:\n",
    "            name, extension = os.path.splitext(filename)\n",
    "            if extension in extensions:\n",
    "                fileAbsPath = foldername + os.path.sep + filename\n",
    "                print('Copying', fileAbsPath, 'to', destFolder)\n",
    "                shutil.copy(fileAbsPath, destFolder)\n",
    "extensions = ['.pdf', '.jpeg']\n",
    "folder = 'randomFolder'\n",
    "destFolder = 'Demo'\n",
    "selectiveCopy(folder, extensions, destFolder)"
   ]
  }
 ],
 "metadata": {
  "kernelspec": {
   "display_name": "Python 3",
   "language": "python",
   "name": "python3"
  },
  "language_info": {
   "codemirror_mode": {
    "name": "ipython",
    "version": 3
   },
   "file_extension": ".py",
   "mimetype": "text/x-python",
   "name": "python",
   "nbconvert_exporter": "python",
   "pygments_lexer": "ipython3",
   "version": "3.8.8"
  }
 },
 "nbformat": 4,
 "nbformat_minor": 5
}
