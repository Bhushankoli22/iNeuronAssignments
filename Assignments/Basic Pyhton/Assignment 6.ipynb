{
 "cells": [
  {
   "cell_type": "markdown",
   "id": "6c0fc49a",
   "metadata": {},
   "source": [
    "# 1. What are escape characters, and how do you use them?"
   ]
  },
  {
   "cell_type": "markdown",
   "id": "306400a7",
   "metadata": {},
   "source": [
    "### Answer : We use an escape character to insert characters that are illegal in a string. An escape character is a backslash \\ followed by the character you want to insert. "
   ]
  },
  {
   "cell_type": "code",
   "execution_count": 2,
   "id": "c46db506",
   "metadata": {},
   "outputs": [],
   "source": [
    "# \\' (Single Quote), \\\\ Back slash , \\n New line "
   ]
  },
  {
   "cell_type": "code",
   "execution_count": 7,
   "id": "e6e84387",
   "metadata": {},
   "outputs": [
    {
     "name": "stdout",
     "output_type": "stream",
     "text": [
      "Hey' are you there? \n",
      "Hey \\ are you there? \n"
     ]
    }
   ],
   "source": [
    "txt = 'Hey\\' are you there? '\n",
    "print(txt)\n",
    "txt1 = 'Hey \\\\ are you there? '\n",
    "print(txt1)"
   ]
  },
  {
   "cell_type": "markdown",
   "id": "5e4be410",
   "metadata": {},
   "source": [
    "# 2. What do the escape characters n and t stand for?"
   ]
  },
  {
   "cell_type": "markdown",
   "id": "8e5269bb",
   "metadata": {},
   "source": [
    "### Answer : \\n stands for next line \\t stands for tab for code"
   ]
  },
  {
   "cell_type": "markdown",
   "id": "6cc0ca2e",
   "metadata": {},
   "source": [
    "# 3. What is the way to include backslash characters in a string?"
   ]
  },
  {
   "cell_type": "markdown",
   "id": "e53da24b",
   "metadata": {},
   "source": [
    "### Answer : \\\\\\ This is the correct way to include backslashes characters in a string"
   ]
  },
  {
   "cell_type": "markdown",
   "id": "690d2718",
   "metadata": {},
   "source": [
    "# 4. The string \"Howl's Moving Castle\" is a correct value. Why isn't the single quote character in the word Howl's not escaped a problem?"
   ]
  },
  {
   "cell_type": "markdown",
   "id": "e1907908",
   "metadata": {},
   "source": [
    "### Answer : Well the String Howl's Moving Castle is already started and ended with a double quotes. Thus completing the string. and in the string its just an apostrophy s."
   ]
  },
  {
   "cell_type": "markdown",
   "id": "3f4fb3ba",
   "metadata": {},
   "source": [
    "# 5. How do you write a string of newlines if you don't want to use the n character?"
   ]
  },
  {
   "cell_type": "markdown",
   "id": "ed732328",
   "metadata": {},
   "source": [
    "### Answer : We need to write strings on multiple lines. "
   ]
  },
  {
   "cell_type": "code",
   "execution_count": 11,
   "id": "2256403c",
   "metadata": {},
   "outputs": [
    {
     "name": "stdout",
     "output_type": "stream",
     "text": [
      "Hello\n",
      "Okay\n",
      "Tata\n"
     ]
    }
   ],
   "source": [
    "print(\"Hello\")\n",
    "print(\"Okay\")\n",
    "print(\"Tata\")"
   ]
  },
  {
   "cell_type": "markdown",
   "id": "ce49186f",
   "metadata": {},
   "source": [
    "# 6. What are the values of the given expressions?"
   ]
  },
  {
   "cell_type": "code",
   "execution_count": 12,
   "id": "b234a36e",
   "metadata": {},
   "outputs": [
    {
     "data": {
      "text/plain": [
       "'e'"
      ]
     },
     "execution_count": 12,
     "metadata": {},
     "output_type": "execute_result"
    }
   ],
   "source": [
    "'Hello, world!'[1]"
   ]
  },
  {
   "cell_type": "code",
   "execution_count": 13,
   "id": "5787a776",
   "metadata": {},
   "outputs": [
    {
     "data": {
      "text/plain": [
       "'Hello'"
      ]
     },
     "execution_count": 13,
     "metadata": {},
     "output_type": "execute_result"
    }
   ],
   "source": [
    "'Hello, world!'[0:5]"
   ]
  },
  {
   "cell_type": "code",
   "execution_count": 14,
   "id": "55e17d64",
   "metadata": {},
   "outputs": [
    {
     "data": {
      "text/plain": [
       "'Hello'"
      ]
     },
     "execution_count": 14,
     "metadata": {},
     "output_type": "execute_result"
    }
   ],
   "source": [
    "'Hello, world!'[:5]"
   ]
  },
  {
   "cell_type": "code",
   "execution_count": 15,
   "id": "c5a618c5",
   "metadata": {},
   "outputs": [
    {
     "data": {
      "text/plain": [
       "'lo, world!'"
      ]
     },
     "execution_count": 15,
     "metadata": {},
     "output_type": "execute_result"
    }
   ],
   "source": [
    "'Hello, world!'[3:]"
   ]
  },
  {
   "cell_type": "markdown",
   "id": "803654bf",
   "metadata": {},
   "source": [
    "# 7. What are the values of the following expressions?"
   ]
  },
  {
   "cell_type": "code",
   "execution_count": 16,
   "id": "4cb70b16",
   "metadata": {},
   "outputs": [
    {
     "data": {
      "text/plain": [
       "'HELLO'"
      ]
     },
     "execution_count": 16,
     "metadata": {},
     "output_type": "execute_result"
    }
   ],
   "source": [
    "'Hello'.upper()"
   ]
  },
  {
   "cell_type": "code",
   "execution_count": 17,
   "id": "614337f4",
   "metadata": {},
   "outputs": [
    {
     "data": {
      "text/plain": [
       "True"
      ]
     },
     "execution_count": 17,
     "metadata": {},
     "output_type": "execute_result"
    }
   ],
   "source": [
    "'Hello'.upper().isupper()"
   ]
  },
  {
   "cell_type": "code",
   "execution_count": 18,
   "id": "080179ba",
   "metadata": {},
   "outputs": [
    {
     "data": {
      "text/plain": [
       "'hello'"
      ]
     },
     "execution_count": 18,
     "metadata": {},
     "output_type": "execute_result"
    }
   ],
   "source": [
    "'Hello'.upper().lower()"
   ]
  },
  {
   "cell_type": "markdown",
   "id": "c1ffd310",
   "metadata": {},
   "source": [
    "# 8. What are the values of the following expressions?"
   ]
  },
  {
   "cell_type": "code",
   "execution_count": 19,
   "id": "571ebfb5",
   "metadata": {},
   "outputs": [
    {
     "data": {
      "text/plain": [
       "['Remember,', 'remember,', 'the', 'fifth', 'of', 'July.']"
      ]
     },
     "execution_count": 19,
     "metadata": {},
     "output_type": "execute_result"
    }
   ],
   "source": [
    "'Remember, remember, the fifth of July.'.split()"
   ]
  },
  {
   "cell_type": "code",
   "execution_count": 20,
   "id": "f4f305e6",
   "metadata": {},
   "outputs": [
    {
     "data": {
      "text/plain": [
       "'There-can-only-one.'"
      ]
     },
     "execution_count": 20,
     "metadata": {},
     "output_type": "execute_result"
    }
   ],
   "source": [
    "'-'.join('There can only one.'.split())"
   ]
  },
  {
   "cell_type": "markdown",
   "id": "da12f7d0",
   "metadata": {},
   "source": [
    "# 9. What are the methods for right-justifying, left-justifying, and centering a string?"
   ]
  },
  {
   "cell_type": "markdown",
   "id": "7e368f8d",
   "metadata": {},
   "source": [
    "### Answer : For Right-justifying a string we use rjust() , for left-justifying we use ljust() and for centering a string we use center() "
   ]
  },
  {
   "cell_type": "code",
   "execution_count": 22,
   "id": "b684a5a5",
   "metadata": {},
   "outputs": [
    {
     "name": "stdout",
     "output_type": "stream",
     "text": [
      "   Bhushan\n"
     ]
    }
   ],
   "source": [
    "string = \"Bhushan\"\n",
    "width = 10\n",
    "print(string.rjust(width))"
   ]
  },
  {
   "cell_type": "code",
   "execution_count": 23,
   "id": "af4088cf",
   "metadata": {},
   "outputs": [
    {
     "name": "stdout",
     "output_type": "stream",
     "text": [
      "Bhushan             \n"
     ]
    }
   ],
   "source": [
    "string1 = \"Bhushan\"\n",
    "width = 20\n",
    "print(string1.ljust(width))"
   ]
  },
  {
   "cell_type": "code",
   "execution_count": 24,
   "id": "fc47011c",
   "metadata": {},
   "outputs": [
    {
     "name": "stdout",
     "output_type": "stream",
     "text": [
      "      Bhushan       \n"
     ]
    }
   ],
   "source": [
    "string2 = \"Bhushan\"\n",
    "width = 20\n",
    "print(string2.center(width))"
   ]
  },
  {
   "cell_type": "markdown",
   "id": "8dfd720c",
   "metadata": {},
   "source": [
    "# 10. What is the best way to remove whitespace characters from the start or end?"
   ]
  },
  {
   "cell_type": "markdown",
   "id": "77ec39a6",
   "metadata": {},
   "source": [
    "### Answer : We can use strip() methods to remove whitespaces from the start or end of strings."
   ]
  },
  {
   "cell_type": "code",
   "execution_count": 32,
   "id": "76e59a43",
   "metadata": {},
   "outputs": [
    {
     "name": "stdout",
     "output_type": "stream",
     "text": [
      "hello okay bye bye\n"
     ]
    }
   ],
   "source": [
    "a = \"            hello okay bye bye        \"\n",
    "print(a.strip())"
   ]
  }
 ],
 "metadata": {
  "kernelspec": {
   "display_name": "Python 3",
   "language": "python",
   "name": "python3"
  },
  "language_info": {
   "codemirror_mode": {
    "name": "ipython",
    "version": 3
   },
   "file_extension": ".py",
   "mimetype": "text/x-python",
   "name": "python",
   "nbconvert_exporter": "python",
   "pygments_lexer": "ipython3",
   "version": "3.8.8"
  }
 },
 "nbformat": 4,
 "nbformat_minor": 5
}
