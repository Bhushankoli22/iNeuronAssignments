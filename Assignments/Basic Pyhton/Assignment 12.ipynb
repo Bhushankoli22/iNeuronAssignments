{
 "cells": [
  {
   "cell_type": "markdown",
   "id": "ae895aa0",
   "metadata": {},
   "source": [
    "# 1. In what modes should the PdfFileReader() and PdfFileWriter() File objects will be opened?"
   ]
  },
  {
   "cell_type": "code",
   "execution_count": 1,
   "id": "b5b2490a",
   "metadata": {},
   "outputs": [],
   "source": [
    "# Ans : PdfFileReader() needs to be opened in read-binary mode by passing 'rb' as the second argument to open(). \n",
    "#       Likewise, the File object passed to PyPDF2. PdfFileWriter() needs to be opened in write-binary mode with 'wb'. \n",
    "#       Also , The webbrowser module has an open() method that will launch a web browser to a specific URL.\n",
    "#       The requests module can download files and pages from the web. \n",
    "#       The BeautifulSoup module parses HTML. Finally, the selenium module can launch and control a browser."
   ]
  },
  {
   "cell_type": "markdown",
   "id": "1cc9f4d0",
   "metadata": {},
   "source": [
    "# 2. From a PdfFileReader object, how do you get a Page object for page 5?"
   ]
  },
  {
   "cell_type": "code",
   "execution_count": 2,
   "id": "4772f9cc",
   "metadata": {},
   "outputs": [],
   "source": [
    "# Ans : To extract text from a page, you need to get a Page object, which represents a single page of a PDF, \n",
    "#       from a PdfFileReader object. You can get a Page object by calling the getPage() method \n",
    "#       pageObj = pdfReader.getPage(5), on a PdfFileReader object and \n",
    "#       passing it the page number of the page you're interested in—in our case, 5."
   ]
  },
  {
   "cell_type": "markdown",
   "id": "e6ff5d3b",
   "metadata": {},
   "source": [
    "# 3. What PdfFileReader variable stores the number of pages in the PDF document?"
   ]
  },
  {
   "cell_type": "code",
   "execution_count": 3,
   "id": "39390c3e",
   "metadata": {},
   "outputs": [],
   "source": [
    "# Ans : The total number of pages in the document is stored in the numPages attribute of a PdfFileReader \n",
    "#       object pdfReader.numPages."
   ]
  },
  {
   "cell_type": "markdown",
   "id": "ff2a159e",
   "metadata": {},
   "source": [
    "# 4. If a PdfFileReader object’s PDF is encrypted with the password swordfish, what must you do before you can obtain Page objects from it?"
   ]
  },
  {
   "cell_type": "code",
   "execution_count": 4,
   "id": "eb2e458e",
   "metadata": {},
   "outputs": [],
   "source": [
    "# Ans : Firstly we can Call decrypt('swordfish') and then we can obtain page objects from it \n",
    "#       by pageObj = pdfReader.getPage(anypage number)"
   ]
  },
  {
   "cell_type": "markdown",
   "id": "683210a7",
   "metadata": {},
   "source": [
    "# 5. What methods do you use to rotate a page?"
   ]
  },
  {
   "cell_type": "code",
   "execution_count": 5,
   "id": "c19ce2ab",
   "metadata": {},
   "outputs": [],
   "source": [
    "# Ans : The rotateClockwise() and rotateCounterClockwise() methods. \n",
    "#       The degrees to rotate is passed as an integer argument.\n",
    "#       Also, This method involves using shortcuts to rotate a PDF. While viewing a PDF document, \n",
    "#       press the \"Ctrl+Shift+L\" keys or \"Ctrl+Shift+R\" keys to rotate the current page to the left or right."
   ]
  },
  {
   "cell_type": "markdown",
   "id": "4649981d",
   "metadata": {},
   "source": [
    "# 6. What is the difference between a Run object and a Paragraph object?"
   ]
  },
  {
   "cell_type": "code",
   "execution_count": 6,
   "id": "7fd6fcdb",
   "metadata": {},
   "outputs": [],
   "source": [
    "# Ans :  A Run object is a contiguous run of text with the same style.\n",
    "#        A new Run object is needed whenever the text style changes.\n",
    "#        And a At the highest level, a Document object represents the entire document. \n",
    "#        The Document object contains a list of Paragraph objects for the paragraphs in the document.\n",
    "#        A new paragraph begins whenever the user presses ENTER or RETURN while typing in a Word document.) \n",
    "#        Each of these Paragraph objects contains a list of one or more Run objects."
   ]
  },
  {
   "cell_type": "markdown",
   "id": "b57b3003",
   "metadata": {},
   "source": [
    "# 7. How do you obtain a list of Paragraph objects for a Document object that’s stored in a variable named doc?"
   ]
  },
  {
   "cell_type": "code",
   "execution_count": 7,
   "id": "d3316154",
   "metadata": {},
   "outputs": [],
   "source": [
    "# Ans : docx.Document('demo.docx') can be used to obtain a list of paragraph object.\n",
    "#       The Document object contains a list of Paragraph objects for the paragraphs in the document.\n",
    "#       A new paragraph begins whenever the user presses ENTER or RETURN while typing in a Word document.) \n",
    "#       Each of these Paragraph objects contains a list of one or more Run objects"
   ]
  },
  {
   "cell_type": "markdown",
   "id": "705409da",
   "metadata": {},
   "source": [
    "# 8. What type of object has bold, underline, italic, strike, and outline variables?"
   ]
  },
  {
   "cell_type": "code",
   "execution_count": 8,
   "id": "8d964e84",
   "metadata": {},
   "outputs": [],
   "source": [
    "# Ans :  A Run object has these variables (not a Paragraph)."
   ]
  },
  {
   "cell_type": "markdown",
   "id": "607c7dc6",
   "metadata": {},
   "source": [
    "# 9. What is the difference between False, True, and None for the bold variable?"
   ]
  },
  {
   "cell_type": "code",
   "execution_count": 9,
   "id": "6576dab5",
   "metadata": {},
   "outputs": [],
   "source": [
    "# Ans : True always makes the Run object bolded and False makes it always not bolded, no matter what the \n",
    "#       style’s bold setting is. None will make the Run object just use the style’s bold setting."
   ]
  },
  {
   "cell_type": "markdown",
   "id": "938d00a8",
   "metadata": {},
   "source": [
    "# 10. How do you create a Document object for a new Word document?"
   ]
  },
  {
   "cell_type": "code",
   "execution_count": 10,
   "id": "adcc6c0d",
   "metadata": {},
   "outputs": [],
   "source": [
    "# Ans : We ccan  Call the docx.Document() function."
   ]
  },
  {
   "cell_type": "markdown",
   "id": "5dc50cb5",
   "metadata": {},
   "source": [
    "# 11. How do you add a paragraph with the text 'Hello, there!' to a Document object stored in a variable named doc?"
   ]
  },
  {
   "cell_type": "code",
   "execution_count": 11,
   "id": "07c5497e",
   "metadata": {},
   "outputs": [],
   "source": [
    "# Ans : We can add a paragraph with text by doc.add_paragraph('Hello there!')"
   ]
  },
  {
   "cell_type": "markdown",
   "id": "13929457",
   "metadata": {},
   "source": [
    "# 12. What integers represent the levels of headings available in Word documents?"
   ]
  },
  {
   "cell_type": "code",
   "execution_count": null,
   "id": "be00ceda",
   "metadata": {},
   "outputs": [],
   "source": [
    "# Ans : The integers 0, 1, 2, 3, and 4 are used to represent the levels of headings available in Word Documents."
   ]
  }
 ],
 "metadata": {
  "kernelspec": {
   "display_name": "Python 3",
   "language": "python",
   "name": "python3"
  },
  "language_info": {
   "codemirror_mode": {
    "name": "ipython",
    "version": 3
   },
   "file_extension": ".py",
   "mimetype": "text/x-python",
   "name": "python",
   "nbconvert_exporter": "python",
   "pygments_lexer": "ipython3",
   "version": "3.8.8"
  }
 },
 "nbformat": 4,
 "nbformat_minor": 5
}
