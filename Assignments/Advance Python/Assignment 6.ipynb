{
 "cells": [
  {
   "cell_type": "markdown",
   "id": "0ccc9d24",
   "metadata": {},
   "source": [
    "# Q1. Describe three applications for exception Processing."
   ]
  },
  {
   "cell_type": "code",
   "execution_count": 2,
   "id": "aa0779ac",
   "metadata": {},
   "outputs": [
    {
     "name": "stdout",
     "output_type": "stream",
     "text": [
      "Enter Anything for Exception : Except Numbers@\n",
      "invalid literal for int() with base 10: '@'\n"
     ]
    }
   ],
   "source": [
    "# Ans : When a Python script encounters a situation that it cannot cope with, it raises an exception. \n",
    "#       An exception is a Python object that represents an error.\n",
    "try:\n",
    "    a = int(input(\"Enter Anything for Exception : Except Numbers\"))\n",
    "except Exception as e:\n",
    "    print(e)"
   ]
  },
  {
   "cell_type": "code",
   "execution_count": 3,
   "id": "28e69aac",
   "metadata": {},
   "outputs": [
    {
     "name": "stdout",
     "output_type": "stream",
     "text": [
      "list index out of range\n"
     ]
    }
   ],
   "source": [
    "try : \n",
    "    color = ['red', 'blue', 'green', 'pink']\n",
    "    print(color[len(color)])\n",
    "except Exception as e:\n",
    "    print(e)"
   ]
  },
  {
   "cell_type": "code",
   "execution_count": 4,
   "id": "65f14d85",
   "metadata": {},
   "outputs": [
    {
     "name": "stdout",
     "output_type": "stream",
     "text": [
      "This statement is raising an arithmetic exception.\n"
     ]
    }
   ],
   "source": [
    "try:\n",
    "    a = 10/0\n",
    "    print (a)\n",
    "except ArithmeticError:\n",
    "    print (\"This statement is raising an arithmetic exception.\")\n",
    "else:\n",
    "    print (\"Success.\")\n"
   ]
  },
  {
   "cell_type": "markdown",
   "id": "bea8272d",
   "metadata": {},
   "source": [
    "# Q2. What happens if you don't do something extra to treat an exception?"
   ]
  },
  {
   "cell_type": "code",
   "execution_count": 5,
   "id": "c5566c31",
   "metadata": {},
   "outputs": [],
   "source": [
    "# Ans : When an exception occurred, if you don't handle it, the program terminates abruptly and the code past the \n",
    "#       line that caused the exception will not get executed."
   ]
  },
  {
   "cell_type": "markdown",
   "id": "d29e3bbf",
   "metadata": {},
   "source": [
    "# Q3. What are your options for recovering from an exception in your script?"
   ]
  },
  {
   "cell_type": "code",
   "execution_count": 6,
   "id": "cdfdc4a8",
   "metadata": {},
   "outputs": [],
   "source": [
    "# Ans : Exception : Base class for all exceptions\n",
    "#       StopIteration : Raised when the next() method of an iterator does not point to any object.\n",
    "#       SystemExit : Raised by the sys.exit() function.\n",
    "#       ArithmeticError : Base class for all errors that occur for numeric calculation."
   ]
  },
  {
   "cell_type": "markdown",
   "id": "73bfb656",
   "metadata": {},
   "source": [
    "# Q4. Describe two methods for triggering exceptions in your script."
   ]
  },
  {
   "cell_type": "code",
   "execution_count": 8,
   "id": "e00c1ee0",
   "metadata": {},
   "outputs": [
    {
     "name": "stdout",
     "output_type": "stream",
     "text": [
      "Enter Anything for Exception : Except Numbers 3\n"
     ]
    }
   ],
   "source": [
    "# Ans : \n",
    "try:\n",
    "    a = int(input(\"Enter Anything for Exception : Except Numbers \"))\n",
    "except Exception as e:\n",
    "    print(e)"
   ]
  },
  {
   "cell_type": "code",
   "execution_count": 9,
   "id": "a62aa200",
   "metadata": {},
   "outputs": [
    {
     "name": "stdout",
     "output_type": "stream",
     "text": [
      "You have divided a number by zero, which is not allowed.\n"
     ]
    }
   ],
   "source": [
    "try:\n",
    "    a = 10\n",
    "    b = 0\n",
    "    print(\"Result of Division: \" + str(a/b))\n",
    "except:\n",
    "    print(\"You have divided a number by zero, which is not allowed.\")"
   ]
  },
  {
   "cell_type": "markdown",
   "id": "ce180338",
   "metadata": {},
   "source": [
    "# Q5. Identify two methods for specifying actions to be executed at termination time, regardless of whether or not an exception exists."
   ]
  },
  {
   "cell_type": "code",
   "execution_count": 1,
   "id": "1d7b90c5",
   "metadata": {},
   "outputs": [
    {
     "name": "stdout",
     "output_type": "stream",
     "text": [
      "Some error occurred.\n",
      "This is finally block\n",
      "Out of try except blocks.\n"
     ]
    }
   ],
   "source": [
    "# Ans : a) We can use Finally block, because This will get executed whether or not exception occur or dont occur.\n",
    "#       b) And also by Uisng simple print statement outside the try and except block. Example is as follows:\n",
    "try:\n",
    "    a=5\n",
    "    b='5'\n",
    "    print(a/b)\n",
    "except:\n",
    "    print('Some error occurred.')\n",
    "finally:\n",
    "    print('This is finally block')\n",
    "print(\"Out of try except blocks.\")"
   ]
  }
 ],
 "metadata": {
  "kernelspec": {
   "display_name": "Python 3",
   "language": "python",
   "name": "python3"
  },
  "language_info": {
   "codemirror_mode": {
    "name": "ipython",
    "version": 3
   },
   "file_extension": ".py",
   "mimetype": "text/x-python",
   "name": "python",
   "nbconvert_exporter": "python",
   "pygments_lexer": "ipython3",
   "version": "3.8.8"
  }
 },
 "nbformat": 4,
 "nbformat_minor": 5
}
