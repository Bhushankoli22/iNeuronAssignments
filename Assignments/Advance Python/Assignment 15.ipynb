{
 "cells": [
  {
   "cell_type": "markdown",
   "id": "d86d220a",
   "metadata": {},
   "source": [
    "# 1. What are the new features added in Python 3.8 version?"
   ]
  },
  {
   "cell_type": "code",
   "execution_count": 2,
   "id": "24d48db5",
   "metadata": {},
   "outputs": [],
   "source": [
    "# Ans : The new Features are as follows :\n",
    "# 1. PEP 572 (Assignment Expressions) – The walrus operator (:=)\n",
    "# 2. PEP 570 (Positional only arguments)\n",
    "# 3. PEP 590 ( Vectorcall)\n",
    "# 4. PEP 574 ( Pickle Protocol 5 with out-of-band data)\n",
    "# 5. F-strings now support = (Easy debugging)\n",
    "# 6.1 PEP 591 ( Final qualifier )\n",
    "# 6.2 PEP 586 (Literal types )"
   ]
  },
  {
   "cell_type": "markdown",
   "id": "81e7b217",
   "metadata": {},
   "source": [
    "# 2. What is monkey patching in Python?"
   ]
  },
  {
   "cell_type": "code",
   "execution_count": 3,
   "id": "0eda61ed",
   "metadata": {},
   "outputs": [],
   "source": [
    "# Ans : Monkey-patching is the technique of swapping functions or methods with others in order to change a module, \n",
    "#       library or class behavior. Class methods monkey patching in Python is really easy, as you can freely assign \n",
    "#       function to class method names."
   ]
  },
  {
   "cell_type": "markdown",
   "id": "43b9c2a8",
   "metadata": {},
   "source": [
    "# 3. What is the difference between a shallow copy and deep copy?"
   ]
  },
  {
   "cell_type": "code",
   "execution_count": 4,
   "id": "010ccaf6",
   "metadata": {},
   "outputs": [],
   "source": [
    "# Ans : A shallow copy constructs a new compound object and then (to the extent possible) inserts references into it \n",
    "#       to the objects found in the original. A deep copy constructs a new compound object and then, recursively, \n",
    "#       inserts copies into it of the objects found in the original."
   ]
  },
  {
   "cell_type": "markdown",
   "id": "a8fdaeb7",
   "metadata": {},
   "source": [
    "# 4. What is the maximum possible length of an identifier?"
   ]
  },
  {
   "cell_type": "code",
   "execution_count": 5,
   "id": "b7935c77",
   "metadata": {},
   "outputs": [],
   "source": [
    "# Ans : In Python, the highest possible length of an identifier is 79 characters."
   ]
  },
  {
   "cell_type": "markdown",
   "id": "77083d3a",
   "metadata": {},
   "source": [
    "# 5. What is generator comprehension?"
   ]
  },
  {
   "cell_type": "code",
   "execution_count": 6,
   "id": "6661da96",
   "metadata": {},
   "outputs": [],
   "source": [
    "# Ans : A generator comprehension is a single-line specification for defining a generator in Python. It is absolutely \n",
    "#       essential to learn this syntax in order to write simple and readable code. "
   ]
  }
 ],
 "metadata": {
  "kernelspec": {
   "display_name": "Python 3",
   "language": "python",
   "name": "python3"
  },
  "language_info": {
   "codemirror_mode": {
    "name": "ipython",
    "version": 3
   },
   "file_extension": ".py",
   "mimetype": "text/x-python",
   "name": "python",
   "nbconvert_exporter": "python",
   "pygments_lexer": "ipython3",
   "version": "3.8.8"
  }
 },
 "nbformat": 4,
 "nbformat_minor": 5
}
