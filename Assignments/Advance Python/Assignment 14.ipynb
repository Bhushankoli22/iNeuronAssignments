{
 "cells": [
  {
   "cell_type": "markdown",
   "id": "c4cba307",
   "metadata": {},
   "source": [
    "# Q1. Is an assignment operator like += only for show? Is it possible that it would lead to faster results at the runtime?"
   ]
  },
  {
   "cell_type": "code",
   "execution_count": 1,
   "id": "39674ec6",
   "metadata": {},
   "outputs": [],
   "source": [
    "# Ans : += adds a number/string to a variable, changing the variable itself in the process. Meaning, ( += ) adds \n",
    "#      the value of the right operand to a variable and assigns the result to the variable.\n",
    "#       Not really it result in faster performance because it take lesser time to operate and we dont require a new."
   ]
  },
  {
   "cell_type": "markdown",
   "id": "57f09112",
   "metadata": {},
   "source": [
    "# Q2. What is the smallest number of statements you&#39;d have to write in most programming languages to replace the Python expression a, b = a + b, a?"
   ]
  },
  {
   "cell_type": "code",
   "execution_count": 2,
   "id": "5619a637",
   "metadata": {},
   "outputs": [],
   "source": [
    "# Ans : In C programming it takes minimum 3 number of statement.\n",
    "# c=a+b\n",
    "# a=c\n",
    "# b=a"
   ]
  },
  {
   "cell_type": "markdown",
   "id": "e9f99c79",
   "metadata": {},
   "source": [
    "# Q3. In Python, what is the most effective way to set a list of 100 integers to 0?"
   ]
  },
  {
   "cell_type": "code",
   "execution_count": 4,
   "id": "e717f409",
   "metadata": {},
   "outputs": [
    {
     "name": "stdout",
     "output_type": "stream",
     "text": [
      "[100, 99, 98, 97, 96, 95, 94, 93, 92, 91, 90, 89, 88, 87, 86, 85, 84, 83, 82, 81, 80, 79, 78, 77, 76, 75, 74, 73, 72, 71, 70, 69, 68, 67, 66, 65, 64, 63, 62, 61, 60, 59, 58, 57, 56, 55, 54, 53, 52, 51, 50, 49, 48, 47, 46, 45, 44, 43, 42, 41, 40, 39, 38, 37, 36, 35, 34, 33, 32, 31, 30, 29, 28, 27, 26, 25, 24, 23, 22, 21, 20, 19, 18, 17, 16, 15, 14, 13, 12, 11, 10, 9, 8, 7, 6, 5, 4, 3, 2, 1, 0]\n"
     ]
    }
   ],
   "source": [
    "# Ans : By using list comprehension in reverse order\n",
    "l=[i for i in range(100,-1,-1)]\n",
    "print(l)"
   ]
  },
  {
   "cell_type": "markdown",
   "id": "49373baf",
   "metadata": {},
   "source": [
    "# Q4. What is the most effective way to initialise a list of 99 integers that repeats the sequence 1, 2, 3? S If necessary, show step-by-step instructions on how to accomplish this."
   ]
  },
  {
   "cell_type": "code",
   "execution_count": 5,
   "id": "39f92935",
   "metadata": {},
   "outputs": [
    {
     "name": "stdout",
     "output_type": "stream",
     "text": [
      "[1, 2, 3, 1, 2, 3, 1, 2, 3, 1, 2, 3, 1, 2, 3, 1, 2, 3, 1, 2, 3, 1, 2, 3, 1, 2, 3, 1, 2, 3, 1, 2, 3, 1, 2, 3, 1, 2, 3, 1, 2, 3, 1, 2, 3, 1, 2, 3, 1, 2, 3, 1, 2, 3, 1, 2, 3, 1, 2, 3, 1, 2, 3, 1, 2, 3, 1, 2, 3, 1, 2, 3, 1, 2, 3, 1, 2, 3, 1, 2, 3, 1, 2, 3, 1, 2, 3, 1, 2, 3, 1, 2, 3, 1, 2, 3, 1, 2, 3] \n",
      "\n",
      "Number of integers ares: 99\n"
     ]
    }
   ],
   "source": [
    "# Ans : \n",
    "l=[i for i in range(1,4)]\n",
    "l2=[]\n",
    "for i in range(33):\n",
    "    l2.extend(l)\n",
    "print(l2,'\\n')\n",
    "print(f'Number of integers ares: {len(l2)}')"
   ]
  },
  {
   "cell_type": "markdown",
   "id": "82071972",
   "metadata": {},
   "source": [
    "# Q5. If you&#39;re using IDLE to run a Python application, explain how to print a multidimensional list as efficiently?"
   ]
  },
  {
   "cell_type": "code",
   "execution_count": 6,
   "id": "8f1d3519",
   "metadata": {},
   "outputs": [
    {
     "name": "stdout",
     "output_type": "stream",
     "text": [
      "[[2, 4, 6, 8, 10], [3, 6, 9, 12, 15], [4, 8, 12, 16, 20]]\n"
     ]
    }
   ],
   "source": [
    "# Ans : It is very simple procedure. We first need a variable and assign it a multidimensional list.\n",
    "a = [[2, 4, 6, 8, 10], [3, 6, 9, 12, 15], [4, 8, 12, 16, 20]]\n",
    "print(a)"
   ]
  },
  {
   "cell_type": "markdown",
   "id": "fe145bc7",
   "metadata": {},
   "source": [
    "# Q6. Is it possible to use list comprehension with a string? If so, how can you go about doing it?"
   ]
  },
  {
   "cell_type": "code",
   "execution_count": 7,
   "id": "4233031a",
   "metadata": {},
   "outputs": [
    {
     "name": "stdout",
     "output_type": "stream",
     "text": [
      "['B', 'h', 'u', 's', 'h', 'a', 'n']\n"
     ]
    }
   ],
   "source": [
    "# Ans : Yes\n",
    "l=[i for i in 'Bhushan']\n",
    "print(l)"
   ]
  },
  {
   "cell_type": "markdown",
   "id": "854cffa1",
   "metadata": {},
   "source": [
    "# Q7. From the command line, how do you get support with a user-written Python programme? Is this possible from inside IDLE?"
   ]
  },
  {
   "cell_type": "code",
   "execution_count": 8,
   "id": "c078c014",
   "metadata": {},
   "outputs": [
    {
     "name": "stdout",
     "output_type": "stream",
     "text": [
      "Help on built-in function print in module builtins:\n",
      "\n",
      "print(...)\n",
      "    print(value, ..., sep=' ', end='\\n', file=sys.stdout, flush=False)\n",
      "    \n",
      "    Prints the values to a stream, or to sys.stdout by default.\n",
      "    Optional keyword arguments:\n",
      "    file:  a file-like object (stream); defaults to the current sys.stdout.\n",
      "    sep:   string inserted between values, default a space.\n",
      "    end:   string appended after the last value, default a newline.\n",
      "    flush: whether to forcibly flush the stream.\n",
      "\n"
     ]
    }
   ],
   "source": [
    "# Ans : We will use help method in that case. Example is as folowed\n",
    "help(print)"
   ]
  },
  {
   "cell_type": "markdown",
   "id": "b841ab90",
   "metadata": {},
   "source": [
    "# Q8. Functions are said to be “first-class objects” in Python but not in most other languages, such as C++ or Java. What can you do in Python with a function (callable object) that you can&#39;t do in C or C++?"
   ]
  },
  {
   "cell_type": "code",
   "execution_count": 9,
   "id": "af39c939",
   "metadata": {},
   "outputs": [],
   "source": [
    "# Ans : In python there is a beautiful things which we can do with the function. It is called first class function\n",
    "#       because of the following reasons:\n",
    "#      1) It can be use as an argument\n",
    "#      2) It can be use in return by some other function\n",
    "#      3) It can be act as variable and we can assign some value to it"
   ]
  },
  {
   "cell_type": "markdown",
   "id": "4b58d5ec",
   "metadata": {},
   "source": [
    "# Q9. How do you distinguish between a wrapper, a wrapped feature, and a decorator?"
   ]
  },
  {
   "cell_type": "code",
   "execution_count": 10,
   "id": "0b218387",
   "metadata": {},
   "outputs": [],
   "source": [
    "# Ans : Wrappers: It also refers to decorators. It allows programmers to modify the behavior of function or class.\n",
    "#       Wrapper Function: Wrapper functions can be used as an interface to adapt to the existing codes, so as to \n",
    "#       save from modifying the codes back and forth. It helps in allowing some codes to run repeadtedly.\n",
    "#       Decorators: It allows to wrap another function in order to extend the behavior of the wrapped function, \n",
    "#       without permanently modifying it."
   ]
  },
  {
   "cell_type": "markdown",
   "id": "46b9d0c0",
   "metadata": {},
   "source": [
    "# Q10. If a function is a generator function, what does it return?"
   ]
  },
  {
   "cell_type": "code",
   "execution_count": 11,
   "id": "9656aed3",
   "metadata": {},
   "outputs": [],
   "source": [
    "# Ans : Generator function is a kind of a iterable function which knows that what i have generated the last time and \n",
    "#       what it will give me the next time. Using return or print statement we can simply get every element which we \n",
    "#       have iterated upon immediately at once. But what if we want that we get the elemenet one by one as per our \n",
    "#       requrement. Here generator comes. We can also say that Generator is something which help in creating iterator\n",
    "#       sort of thing. We use yield keyword in place of return when we are dealing with generators. With the help of \n",
    "#       generator only it is not necessary to create an itertor from an iterables. We can make any thing an itertaor \n",
    "#       object. It do not stores all the items at once. Whatever the value we need, it catches and throw it out. \n",
    "#       Means whenever we need a next value to print we just call a next function over its object and it will \n",
    "#       give that value."
   ]
  },
  {
   "cell_type": "markdown",
   "id": "00d066e4",
   "metadata": {},
   "source": [
    "# Q11. What is the one improvement that must be made to a function in order for it to become a generator function in the Python language?"
   ]
  },
  {
   "cell_type": "code",
   "execution_count": 12,
   "id": "6aeb7f3a",
   "metadata": {},
   "outputs": [],
   "source": [
    "# Ans : Just replace return with yield"
   ]
  },
  {
   "cell_type": "code",
   "execution_count": 14,
   "id": "9fc5cfe8",
   "metadata": {},
   "outputs": [
    {
     "data": {
      "text/plain": [
       "<generator object gen at 0x000001F67FB6C0B0>"
      ]
     },
     "execution_count": 14,
     "metadata": {},
     "output_type": "execute_result"
    }
   ],
   "source": [
    "def gen():\n",
    "    for i in range(10):\n",
    "        yield i\n",
    "a=iter(gen())\n",
    "a"
   ]
  },
  {
   "cell_type": "code",
   "execution_count": 15,
   "id": "1a41ab39",
   "metadata": {},
   "outputs": [
    {
     "data": {
      "text/plain": [
       "0"
      ]
     },
     "execution_count": 15,
     "metadata": {},
     "output_type": "execute_result"
    }
   ],
   "source": [
    "next(a)"
   ]
  },
  {
   "cell_type": "code",
   "execution_count": 16,
   "id": "1c8e6915",
   "metadata": {},
   "outputs": [
    {
     "data": {
      "text/plain": [
       "1"
      ]
     },
     "execution_count": 16,
     "metadata": {},
     "output_type": "execute_result"
    }
   ],
   "source": [
    "next(a)"
   ]
  },
  {
   "cell_type": "code",
   "execution_count": 17,
   "id": "480a86af",
   "metadata": {},
   "outputs": [
    {
     "name": "stdout",
     "output_type": "stream",
     "text": [
      "2\n",
      "3\n",
      "4\n",
      "5\n",
      "6\n",
      "7\n",
      "8\n",
      "9\n"
     ]
    }
   ],
   "source": [
    "for i in a:\n",
    "    print(i)"
   ]
  },
  {
   "cell_type": "markdown",
   "id": "29c2b502",
   "metadata": {},
   "source": [
    "# Q12. Identify at least one benefit of generators."
   ]
  },
  {
   "cell_type": "code",
   "execution_count": 18,
   "id": "5d973f50",
   "metadata": {},
   "outputs": [],
   "source": [
    "# Ans : It helps in creating an iterator which do not store all the items at once. This saves the memory and also \n",
    "#       system do not get hang.It takes the value one by one when we required and throw it out one by one by using \n",
    "#       next function when and only we required. It doesnot give the whole items at onces. It onlt gives when it is\n",
    "#       needed."
   ]
  }
 ],
 "metadata": {
  "kernelspec": {
   "display_name": "Python 3",
   "language": "python",
   "name": "python3"
  },
  "language_info": {
   "codemirror_mode": {
    "name": "ipython",
    "version": 3
   },
   "file_extension": ".py",
   "mimetype": "text/x-python",
   "name": "python",
   "nbconvert_exporter": "python",
   "pygments_lexer": "ipython3",
   "version": "3.8.8"
  }
 },
 "nbformat": 4,
 "nbformat_minor": 5
}
