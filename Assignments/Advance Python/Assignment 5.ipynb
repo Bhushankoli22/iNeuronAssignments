{
 "cells": [
  {
   "cell_type": "markdown",
   "id": "0e46d04d",
   "metadata": {},
   "source": [
    "# Q1. What is the meaning of multiple inheritance?"
   ]
  },
  {
   "cell_type": "code",
   "execution_count": 1,
   "id": "c2855098",
   "metadata": {},
   "outputs": [],
   "source": [
    "# Ans : When a class is derived from more than one base class it is called multiple Inheritance. The derived class \n",
    "#       inherits all the features of the base case."
   ]
  },
  {
   "cell_type": "markdown",
   "id": "622cbfa7",
   "metadata": {},
   "source": [
    "# Q2. What is the concept of delegation?"
   ]
  },
  {
   "cell_type": "code",
   "execution_count": 2,
   "id": "12856d2b",
   "metadata": {},
   "outputs": [],
   "source": [
    "# Ans : Delegation is an object oriented technique (also called a design pattern). Let's say we have an object x \n",
    "#       and we want to change the behaviour of just one of its methods."
   ]
  },
  {
   "cell_type": "markdown",
   "id": "25a01df7",
   "metadata": {},
   "source": [
    "# Q3. What is the concept of composition?"
   ]
  },
  {
   "cell_type": "code",
   "execution_count": 3,
   "id": "7aaf7807",
   "metadata": {},
   "outputs": [],
   "source": [
    "# Ans : Composition is a concept that models a has a relationship. It enables creating complex types by combining \n",
    "#       objects of other types. This means that a class Composite can contain an object of another class Component . \n",
    "#       This relationship means that a Composite has a Component ."
   ]
  },
  {
   "cell_type": "markdown",
   "id": "021f0c7d",
   "metadata": {},
   "source": [
    "# Q4. What are bound methods and how do we use them?"
   ]
  },
  {
   "cell_type": "code",
   "execution_count": 4,
   "id": "217763e1",
   "metadata": {},
   "outputs": [
    {
     "name": "stdout",
     "output_type": "stream",
     "text": [
      "<bound method A.func of <__main__.A object at 0x0000013A633DC8E0>>\n"
     ]
    }
   ],
   "source": [
    "# Ans : A bound method is the one which is dependent on the instance of the class as the first argument.\n",
    "#       It passes the instance as the first argument which is used to access the variables and functions.\n",
    "class A:\n",
    "    def func(self, arg):\n",
    "        self.arg = arg\n",
    "        print(\"Value of arg = \", arg)\n",
    "obj = A()\n",
    "# this is bound function\n",
    "print(obj.func)\n"
   ]
  },
  {
   "cell_type": "markdown",
   "id": "fd67eb75",
   "metadata": {},
   "source": [
    "# Q5. What is the purpose of pseudoprivate attributes?"
   ]
  },
  {
   "cell_type": "code",
   "execution_count": null,
   "id": "515ac9e7",
   "metadata": {},
   "outputs": [],
   "source": [
    "# Ans :This feature is mostly intended to avoid namespace collisions in instances, not to restrict access to names \n",
    "#      in general."
   ]
  }
 ],
 "metadata": {
  "kernelspec": {
   "display_name": "Python 3",
   "language": "python",
   "name": "python3"
  },
  "language_info": {
   "codemirror_mode": {
    "name": "ipython",
    "version": 3
   },
   "file_extension": ".py",
   "mimetype": "text/x-python",
   "name": "python",
   "nbconvert_exporter": "python",
   "pygments_lexer": "ipython3",
   "version": "3.8.8"
  }
 },
 "nbformat": 4,
 "nbformat_minor": 5
}
