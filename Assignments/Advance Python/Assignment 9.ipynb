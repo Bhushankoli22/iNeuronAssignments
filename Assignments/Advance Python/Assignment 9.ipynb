{
 "cells": [
  {
   "cell_type": "markdown",
   "id": "fc712cb7",
   "metadata": {},
   "source": [
    "# Q1. In Python 3.X, what are the names and functions of string object types?"
   ]
  },
  {
   "cell_type": "code",
   "execution_count": 1,
   "id": "17ad0850",
   "metadata": {},
   "outputs": [],
   "source": [
    "# Ans : In Python 3.X and later, String objects has bulit in class named as \"str\" and it is used to store \n",
    "#       characters in memory in encoded format."
   ]
  },
  {
   "cell_type": "markdown",
   "id": "f0ea260b",
   "metadata": {},
   "source": [
    "# Q2. How do the string forms in Python 3.X vary in terms of operations?"
   ]
  },
  {
   "cell_type": "code",
   "execution_count": 3,
   "id": "9c6396a9",
   "metadata": {},
   "outputs": [
    {
     "name": "stdout",
     "output_type": "stream",
     "text": [
      "110\n"
     ]
    }
   ],
   "source": [
    "# Ans : Python supports ASCII as a subset of Unicode. The default encoding of characters in Python is UTF-8 \n",
    "#       (Unicode Transformation Format - 8-bit).ASCII is really a 7-bit character set; it is mapped to 8-bit bytes\n",
    "#       by setting the high bit to zero. Thus, ASCII characters are unchanged in UTF-8. A non-zero high bit indicates\n",
    "#       that a character composed of multiple bytes.\n",
    "u = 'Bhushan'\n",
    "print(ord(u[-1]))"
   ]
  },
  {
   "cell_type": "markdown",
   "id": "7b01da04",
   "metadata": {},
   "source": [
    "# Q3. In 3.X, how do you put non-ASCII Unicode characters in a string?"
   ]
  },
  {
   "cell_type": "code",
   "execution_count": 4,
   "id": "70e2ef86",
   "metadata": {},
   "outputs": [
    {
     "name": "stdout",
     "output_type": "stream",
     "text": [
      "Bhushan©\n"
     ]
    }
   ],
   "source": [
    "# Ans : As we know, there are only 127 ASCII characters in ascii table. It stores symbols, letters, whitespace \n",
    "#       characters, non printable characters, which are very less. So Python 3 has adopted unicode encoding of strings.\n",
    "#       for non ASCII u can get any value more than 127.\n",
    "s = 'Bhushan'\n",
    "s += chr(128)+chr(169)\n",
    "print(s)"
   ]
  },
  {
   "cell_type": "markdown",
   "id": "14b087b3",
   "metadata": {},
   "source": [
    "# Q4. In Python 3.X, what are the key differences between text-mode and binary-mode files?"
   ]
  },
  {
   "cell_type": "code",
   "execution_count": 5,
   "id": "8640747f",
   "metadata": {},
   "outputs": [],
   "source": [
    "# Ans : Files opened in binary mode (appending 'b' to the mode argument) return contents as bytes objects without \n",
    "#       any decoding. In text mode (the default, or when 't' is appended to the mode argument), the contents of the \n",
    "#       file are returned as strings, the bytes having been first decoded using a platform-dependent encoding \n",
    "#       or using the specified encoding if given."
   ]
  },
  {
   "cell_type": "markdown",
   "id": "c1570f3d",
   "metadata": {},
   "source": [
    "# Q5. How can you interpret a Unicode text file containing text encoded in a different encoding than your platform&#39;s default?"
   ]
  },
  {
   "cell_type": "code",
   "execution_count": 6,
   "id": "078d9c65",
   "metadata": {},
   "outputs": [
    {
     "name": "stdout",
     "output_type": "stream",
     "text": [
      "this is sample text file for understanding encoding\n"
     ]
    }
   ],
   "source": [
    "# Ans : While reading file, we can specify the encoding such as(utf16, utf32), so the file will be decoded according \n",
    "#       to that encoding and results are returned to the user.\n",
    "text = \"this is sample text file for understanding encoding\"\n",
    "f = open('sample.txt','w', encoding='utf16')\n",
    "f.write(text)\n",
    "f.close()\n",
    "f = open('sample.txt','r', encoding='utf16')\n",
    "print(f.read())"
   ]
  },
  {
   "cell_type": "markdown",
   "id": "1fbfe7ad",
   "metadata": {},
   "source": [
    "# Q6. What is the best way to make a Unicode text file in a particular encoding format?"
   ]
  },
  {
   "cell_type": "code",
   "execution_count": 8,
   "id": "91127d70",
   "metadata": {},
   "outputs": [
    {
     "name": "stdout",
     "output_type": "stream",
     "text": [
      "ହୋ ହେଲା ଓଡ଼ିଆ ତୁମର\n"
     ]
    }
   ],
   "source": [
    "text = 'ହୋ ହେଲା ଓଡ଼ିଆ ତୁମର'\n",
    "encoded_data = text.encode(\"utf16\")\n",
    "file = open(\"sample1.txt\", \"wb\")\n",
    "file.write(encoded_data)\n",
    "file = open(\"sample1.txt\", \"r\", encoding='utf16')\n",
    "print(file.read())"
   ]
  },
  {
   "cell_type": "markdown",
   "id": "4c672e3a",
   "metadata": {},
   "source": [
    "# Q7. What qualifies ASCII text as a form of Unicode text?"
   ]
  },
  {
   "cell_type": "code",
   "execution_count": 9,
   "id": "4ec43212",
   "metadata": {},
   "outputs": [],
   "source": [
    "# Ans : The first 128 Unicode code points represent the equivalent ASCII characters. They have the same meaning in\n",
    "#       both ASCII and unicode. Since UTF-8 encodes each of these characters with a single byte, any ASCII text is \n",
    "#       also a UTF-8 text. Unicode is a superset of ASCII."
   ]
  },
  {
   "cell_type": "markdown",
   "id": "f9c6c835",
   "metadata": {},
   "source": [
    "# Q8. How much of an effect does the change in string types in Python 3.X have on your code?"
   ]
  },
  {
   "cell_type": "code",
   "execution_count": null,
   "id": "d1da7952",
   "metadata": {},
   "outputs": [],
   "source": [
    "# Ans : In Python 3.X and later, there is only one string type that is unicode. So there is no effect on the code."
   ]
  }
 ],
 "metadata": {
  "kernelspec": {
   "display_name": "Python 3",
   "language": "python",
   "name": "python3"
  },
  "language_info": {
   "codemirror_mode": {
    "name": "ipython",
    "version": 3
   },
   "file_extension": ".py",
   "mimetype": "text/x-python",
   "name": "python",
   "nbconvert_exporter": "python",
   "pygments_lexer": "ipython3",
   "version": "3.8.8"
  }
 },
 "nbformat": 4,
 "nbformat_minor": 5
}
