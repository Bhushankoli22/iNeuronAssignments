{
 "cells": [
  {
   "cell_type": "markdown",
   "id": "d0f4f711",
   "metadata": {},
   "source": [
    "# Q1. Does assigning a value to a string&#39;s indexed character violate Python&#39;s string immutability?"
   ]
  },
  {
   "cell_type": "code",
   "execution_count": 1,
   "id": "6fa8adb3",
   "metadata": {},
   "outputs": [],
   "source": [
    "# Ans : String is an immutable. So we can't do any updation or deletion with the string items through indexing."
   ]
  },
  {
   "cell_type": "code",
   "execution_count": 2,
   "id": "6b40b436",
   "metadata": {},
   "outputs": [
    {
     "ename": "TypeError",
     "evalue": "'str' object does not support item assignment",
     "output_type": "error",
     "traceback": [
      "\u001b[1;31m---------------------------------------------------------------------------\u001b[0m",
      "\u001b[1;31mTypeError\u001b[0m                                 Traceback (most recent call last)",
      "\u001b[1;32m<ipython-input-2-fe3c7f8cc37d>\u001b[0m in \u001b[0;36m<module>\u001b[1;34m\u001b[0m\n\u001b[0;32m      1\u001b[0m \u001b[0ms\u001b[0m\u001b[1;33m=\u001b[0m\u001b[1;34m'Koli'\u001b[0m\u001b[1;33m\u001b[0m\u001b[1;33m\u001b[0m\u001b[0m\n\u001b[1;32m----> 2\u001b[1;33m \u001b[0ms\u001b[0m\u001b[1;33m[\u001b[0m\u001b[1;36m2\u001b[0m\u001b[1;33m]\u001b[0m\u001b[1;33m=\u001b[0m\u001b[1;34m't'\u001b[0m\u001b[1;33m\u001b[0m\u001b[1;33m\u001b[0m\u001b[0m\n\u001b[0m\u001b[0;32m      3\u001b[0m \u001b[0mprint\u001b[0m\u001b[1;33m(\u001b[0m\u001b[0ms\u001b[0m\u001b[1;33m)\u001b[0m\u001b[1;33m\u001b[0m\u001b[1;33m\u001b[0m\u001b[0m\n",
      "\u001b[1;31mTypeError\u001b[0m: 'str' object does not support item assignment"
     ]
    }
   ],
   "source": [
    "# Example :\n",
    "s='Koli'\n",
    "s[2]='t'\n",
    "print(s)"
   ]
  },
  {
   "cell_type": "markdown",
   "id": "22877483",
   "metadata": {},
   "source": [
    "# Q2. Does using the += operator to concatenate strings violate Python&#39;s string immutability? Why or why not?"
   ]
  },
  {
   "cell_type": "code",
   "execution_count": 3,
   "id": "9bddab1b",
   "metadata": {},
   "outputs": [],
   "source": [
    "# Ans : No it doesnot violate it because string class is having an inbuilt method which is add () \n",
    "#       which takes strings and concatenate them"
   ]
  },
  {
   "cell_type": "markdown",
   "id": "e18195f7",
   "metadata": {},
   "source": [
    "# Q3. In Python, how many different ways are there to index a character?"
   ]
  },
  {
   "cell_type": "code",
   "execution_count": 4,
   "id": "e52371bc",
   "metadata": {},
   "outputs": [],
   "source": [
    "# Ans : There are various ways in pytho to get some item at some index position. \n",
    "#       1) By simply using the indexing and slicing method inside square bracket. Eg: item[1] or\n",
    "#       item[1:4] or item[3::2], etc.\n",
    "#       2) By using list index method. list.index(position). In this way one can get the item at some index position.\n",
    "#       3) Using built in method like getitem () and index . We can use this inside the class"
   ]
  },
  {
   "cell_type": "markdown",
   "id": "2eab92bb",
   "metadata": {},
   "source": [
    "# Q4. What is the relationship between indexing and slicing?"
   ]
  },
  {
   "cell_type": "code",
   "execution_count": 5,
   "id": "a12b7889",
   "metadata": {},
   "outputs": [],
   "source": [
    "# Ans : Indexing: It is a technique used to get the item of that particuar index position or in cas eof mutable \n",
    "#       object we can also update the value or add the new value by just giving the index position and assignment\n",
    "#       operator. \n",
    "#       Slicing: It is use when we wan to extract some range of a item from some object."
   ]
  },
  {
   "cell_type": "code",
   "execution_count": 6,
   "id": "d021abac",
   "metadata": {},
   "outputs": [
    {
     "name": "stdout",
     "output_type": "stream",
     "text": [
      "Indexing: 66\n",
      "Slicing: [22, 33, 44, 55]\n"
     ]
    }
   ],
   "source": [
    "# Example\n",
    "l = [11,22,33,44,55,66,77,88]\n",
    "indexing=l[5] #getting that item at position 5\n",
    "print(f'Indexing: {indexing}')\n",
    "slicing=l[1:5]  #getting items from position 1 till 4\n",
    "print(f'Slicing: {slicing}')"
   ]
  },
  {
   "cell_type": "code",
   "execution_count": 7,
   "id": "936709db",
   "metadata": {},
   "outputs": [
    {
     "data": {
      "text/plain": [
       "int"
      ]
     },
     "execution_count": 7,
     "metadata": {},
     "output_type": "execute_result"
    }
   ],
   "source": [
    "type(indexing)"
   ]
  },
  {
   "cell_type": "code",
   "execution_count": 8,
   "id": "41a2d0fa",
   "metadata": {},
   "outputs": [
    {
     "data": {
      "text/plain": [
       "str"
      ]
     },
     "execution_count": 8,
     "metadata": {},
     "output_type": "execute_result"
    }
   ],
   "source": [
    "type('.')"
   ]
  },
  {
   "cell_type": "markdown",
   "id": "8dde0279",
   "metadata": {},
   "source": [
    "# Q5. What is an indexed character&#39;s exact data type? What is the data form of a slicing-generated substring?"
   ]
  },
  {
   "cell_type": "code",
   "execution_count": 9,
   "id": "284a30ae",
   "metadata": {},
   "outputs": [],
   "source": [
    "# Ans : The exact data type for the indexed character is CHAR but generally it is refer to as a string. Or it could \n",
    "#       that which was earlier before the indexing. The data type of a substring produced from slicing is also a string"
   ]
  },
  {
   "cell_type": "markdown",
   "id": "80ef32fc",
   "metadata": {},
   "source": [
    "# Q6. What is the relationship between string and character &quot;types&quot; in Python?"
   ]
  },
  {
   "cell_type": "code",
   "execution_count": 10,
   "id": "1b6b5b57",
   "metadata": {},
   "outputs": [],
   "source": [
    "# Ans : Character refers to a single letter, number, space, punctuation mark or a symbol. Its data type is actually a\n",
    "#       CHAR which stores character data in a fixed-length field. While String is a sequence of characters. A group of\n",
    "#       different different character compose a string. We enclosed it by ' ' Strings are arrays of bytes representing\n",
    "#       Unicode characters. Its type is string"
   ]
  },
  {
   "cell_type": "markdown",
   "id": "77aeee7c",
   "metadata": {},
   "source": [
    "# Q7. Identify at least two operators and one method that allow you to combine one or more smaller strings to create a larger string."
   ]
  },
  {
   "cell_type": "code",
   "execution_count": 13,
   "id": "cb4c55e2",
   "metadata": {},
   "outputs": [
    {
     "name": "stdout",
     "output_type": "stream",
     "text": [
      "BhushanKoli\n",
      "Bhushan Bhushan \n",
      "BhushanKoli\n",
      "Bhushan Bhushan \n"
     ]
    }
   ],
   "source": [
    "# Ans : In this case concatenation and a kind of multiple times of string comes into action. Concatenation needed + \n",
    "#       operator while multiple time needed '*' operator.In case of methods there are a method which do the same: \n",
    "#       add and mul\n",
    "print('Bhushan'+'Koli')\n",
    "print('Bhushan '*2)\n",
    "print(str.__add__('Bhushan','Koli'))\n",
    "print(str.__mul__('Bhushan ',2))"
   ]
  },
  {
   "cell_type": "markdown",
   "id": "67093869",
   "metadata": {},
   "source": [
    "# Q8. What is the benefit of first checking the target string with in or not in before using the index method to find a substring?"
   ]
  },
  {
   "cell_type": "code",
   "execution_count": 14,
   "id": "c384d8c5",
   "metadata": {},
   "outputs": [],
   "source": [
    "# Ans : When we first check the target string using in or not in containment operator then we could get to know \n",
    "#       whether that particular target string is present or not. If it is not present the it will give True as a \n",
    "#       result else will False. Its better to check before becaue if we are not testinng it first and the substring\n",
    "#       is not present in the string then it will result in an exception."
   ]
  },
  {
   "cell_type": "markdown",
   "id": "460e4109",
   "metadata": {},
   "source": [
    "# Q9. Which operators and built-in string methods produce simple Boolean (true/false) results?"
   ]
  },
  {
   "cell_type": "code",
   "execution_count": null,
   "id": "8c096578",
   "metadata": {},
   "outputs": [],
   "source": [
    "# Ans : contains is a built in method which produces the Boolean values in result.Others are also some methods which \n",
    "#       result the boolean values: 'isalnum','isalpha', 'isascii','isdecimal','isdigit','isidentifier', 'islower',\n",
    "#       'isnumeric','isprintable', 'isspace', 'istitle', 'isupper',The operator which used in this is 'in' which \n",
    "#       is also called as containment operator."
   ]
  }
 ],
 "metadata": {
  "kernelspec": {
   "display_name": "Python 3",
   "language": "python",
   "name": "python3"
  },
  "language_info": {
   "codemirror_mode": {
    "name": "ipython",
    "version": 3
   },
   "file_extension": ".py",
   "mimetype": "text/x-python",
   "name": "python",
   "nbconvert_exporter": "python",
   "pygments_lexer": "ipython3",
   "version": "3.8.8"
  }
 },
 "nbformat": 4,
 "nbformat_minor": 5
}
