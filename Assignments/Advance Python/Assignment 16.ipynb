{
 "cells": [
  {
   "cell_type": "markdown",
   "id": "4b1d9a80",
   "metadata": {},
   "source": [
    "# Q1. What is the benefit of regular expressions?"
   ]
  },
  {
   "cell_type": "code",
   "execution_count": 1,
   "id": "9e69cde9",
   "metadata": {},
   "outputs": [],
   "source": [
    "# Ans : Using regular expression, one can easily identity the pattern and extract the required values texts\n",
    "#       from a strings or lines"
   ]
  },
  {
   "cell_type": "markdown",
   "id": "ac61645f",
   "metadata": {},
   "source": [
    "# Q2. Describe the difference between the effects of &quot;(ab)c+&quot; and &quot;a(bc)+.&quot; Which of these, if any, is the unqualified pattern &quot;abc+&quot;?"
   ]
  },
  {
   "cell_type": "code",
   "execution_count": 2,
   "id": "834cce81",
   "metadata": {},
   "outputs": [
    {
     "name": "stdout",
     "output_type": "stream",
     "text": [
      "a(bc)+\n",
      "First pattern: a(bc)+\n",
      "(ab)c+\n",
      "Second pattern: (ab)c+\n"
     ]
    }
   ],
   "source": [
    "# Ans : Below mentioned both are valid patterns\n",
    "import re\n",
    "text= \"a(bc)+\"\n",
    "print(text)\n",
    "rexobj=re.compile(r'\\w+\\(\\w+\\)\\+')\n",
    "mtobj=rexobj.search(text)\n",
    "print(\"First pattern:\",mtobj.group(0))\n",
    "\n",
    "text1= \"(ab)c+\"\n",
    "print(text1)\n",
    "rexobj1=re.compile(r'\\(\\w+\\w\\)\\w\\+')\n",
    "mtobj1=rexobj1.search(text1)\n",
    "print(\"Second pattern:\",mtobj1.group(0))"
   ]
  },
  {
   "cell_type": "markdown",
   "id": "d983a56d",
   "metadata": {},
   "source": [
    "# Q3. How much do you need to use the following sentence while using regular expressions?"
   ]
  },
  {
   "cell_type": "code",
   "execution_count": 3,
   "id": "34c0a7b6",
   "metadata": {},
   "outputs": [],
   "source": [
    "# Ans :Its just one thing that one has to import re to using the regular expressions"
   ]
  },
  {
   "cell_type": "code",
   "execution_count": 4,
   "id": "d4d6e37c",
   "metadata": {},
   "outputs": [],
   "source": [
    "import re"
   ]
  },
  {
   "cell_type": "markdown",
   "id": "6c6a69d4",
   "metadata": {},
   "source": [
    "# Q4. Which characters have special significance in square brackets when expressing a range, and under what circumstances?"
   ]
  },
  {
   "cell_type": "code",
   "execution_count": 5,
   "id": "911ef640",
   "metadata": {},
   "outputs": [
    {
     "name": "stdout",
     "output_type": "stream",
     "text": [
      "['1', '2', '3', '4', '5', '^']\n"
     ]
    }
   ],
   "source": [
    "# Ans : The characters ., *, ?, ^ or () have special significance when used in square brackets. \n",
    "#       They need not be escacped by '\\' as in case of patterns texts in raw string.\n",
    "# Example :\n",
    "import re\n",
    "text = \"Hello world 123456^\"\n",
    "regobj=re.compile(r'[1-5^]')\n",
    "matobj=regobj.findall(text)\n",
    "print(matobj)"
   ]
  },
  {
   "cell_type": "markdown",
   "id": "c324cd43",
   "metadata": {},
   "source": [
    "# Q5. How does compiling a regular-expression object benefit you?"
   ]
  },
  {
   "cell_type": "code",
   "execution_count": null,
   "id": "d928f044",
   "metadata": {},
   "outputs": [],
   "source": [
    "# Ans : Combine a regular expression pattern into pattern objects, which can be used for pattern matching. \n",
    "#       It also helps to search a pattern again without rewriting it."
   ]
  },
  {
   "cell_type": "markdown",
   "id": "2a321cbb",
   "metadata": {},
   "source": [
    "# Q6. What are some examples of how to use the match object returned by re.match and re.search? "
   ]
  },
  {
   "cell_type": "code",
   "execution_count": 7,
   "id": "ac735751",
   "metadata": {},
   "outputs": [
    {
     "name": "stdout",
     "output_type": "stream",
     "text": [
      "<re.Match object; span=(31, 36), match='alive'>\n",
      "None\n",
      "<re.Match object; span=(0, 5), match='Alive'>\n",
      "<re.Match object; span=(0, 5), match='Alive'>\n"
     ]
    }
   ],
   "source": [
    "# Ans : re.search() searches for the whole string even if the string contains multi-lines and tries to find a match of\n",
    "#       the substring in all the lines of string.It returns the first occurrence or match of search substring re.match\n",
    "#       () searches only from the beginning of the string and return match object if found. But if a match of substring\n",
    "#       is found somewhere in the middle of the string, it returns none.It also returns a first occurrence or\n",
    "#       match of search substring.\n",
    "import re\n",
    "Substring ='alive'\n",
    "String1 ='''Ask an FreeLancer. How to stay alive in Market'''\n",
    "String2 ='''Alive we all are. But how alive we are one has to introspect'''\n",
    "# Use of re.search() Method\n",
    "print(re.search(Substring, String1, re.IGNORECASE)) #Returns match found at index 30\n",
    "# Use of re.match() Method\n",
    "print(re.match(Substring, String1, re.IGNORECASE)) #Returns None as the substring is not in th ebeggining of the String\n",
    "# Use of re.search() Method\n",
    "print(re.search(Substring, String2, re.IGNORECASE)) #returns match found at index 0\n",
    "# Use of re.match() Method\n",
    "print(re.match(Substring, String2, re.IGNORECASE)) #returns match found at index 0"
   ]
  },
  {
   "cell_type": "markdown",
   "id": "7af73b42",
   "metadata": {},
   "source": [
    "# Q7. What is the difference between using a vertical bar (|) as an alteration and using square brackets as a character set?"
   ]
  },
  {
   "cell_type": "code",
   "execution_count": 9,
   "id": "9e262d53",
   "metadata": {},
   "outputs": [
    {
     "name": "stdout",
     "output_type": "stream",
     "text": [
      "Bhushan\n",
      "Koli\n",
      "['M', 'n', 'm', 's', 's', 'n', 'o']\n"
     ]
    }
   ],
   "source": [
    "# Ans : When (|) is used the pattern searches for  'or' option i.e <str1>|<str2> means it searches for as <str1> or \n",
    "#       <str2>. When both <str1> and <str2> occur in the searched string, the first occurrence of matching text will be\n",
    "#       returned as the Match object.\n",
    "#       Using character set in square brackets is used, it searches for all the character set in the square bracket \n",
    "#       and if match found it returns it.\n",
    "import re\n",
    "text = \"My name is Bhushan Koli\"\n",
    "text1= \"My name is Koli Bhushan\"\n",
    "text2=\"My name is Bhushan Koli\"\n",
    "regobj=re.compile(r'Koli|Bhushan')\n",
    "matobj=regobj.search(text)\n",
    "print(matobj.group(0))\n",
    "regobj1=re.compile(r'Koli|Bhushan')\n",
    "matobj1=regobj.search(text1)\n",
    "print(matobj1.group(0))\n",
    "regobj2=re.compile(r'[m-tM-T]')\n",
    "matobj2=regobj2.findall(text2)\n",
    "print(matobj2)"
   ]
  },
  {
   "cell_type": "markdown",
   "id": "8002c3a8",
   "metadata": {},
   "source": [
    "# Q8. In regular-expression search patterns, why is it necessary to use the raw-string indicator (r)? In replacement strings?"
   ]
  },
  {
   "cell_type": "code",
   "execution_count": 10,
   "id": "9472839e",
   "metadata": {},
   "outputs": [],
   "source": [
    "# Ans : Raw strings are used in regular expression search patterns, so that backslashes do not have to be escaped."
   ]
  }
 ],
 "metadata": {
  "kernelspec": {
   "display_name": "Python 3",
   "language": "python",
   "name": "python3"
  },
  "language_info": {
   "codemirror_mode": {
    "name": "ipython",
    "version": 3
   },
   "file_extension": ".py",
   "mimetype": "text/x-python",
   "name": "python",
   "nbconvert_exporter": "python",
   "pygments_lexer": "ipython3",
   "version": "3.8.8"
  }
 },
 "nbformat": 4,
 "nbformat_minor": 5
}
