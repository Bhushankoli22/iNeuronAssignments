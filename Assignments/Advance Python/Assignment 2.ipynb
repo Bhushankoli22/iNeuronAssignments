{
 "cells": [
  {
   "cell_type": "markdown",
   "id": "a0cee9bb",
   "metadata": {},
   "source": [
    "# Q1. What is the relationship between classes and modules?"
   ]
  },
  {
   "cell_type": "code",
   "execution_count": 1,
   "id": "1ed2bc78",
   "metadata": {},
   "outputs": [],
   "source": [
    "# Ans : The difference between a class and a module in python is that a class is used to define a blueprint for a\n",
    "#       given object, whereas a module is used to reuse a given piece of code inside another program."
   ]
  },
  {
   "cell_type": "markdown",
   "id": "951b45ef",
   "metadata": {},
   "source": [
    "# Q2. How do you make instances and classes?"
   ]
  },
  {
   "cell_type": "code",
   "execution_count": 2,
   "id": "565128b7",
   "metadata": {},
   "outputs": [],
   "source": [
    "# Ans : Use the class name to create a new instance and Call ClassName() to create a new instance of the class \n",
    "#       ClassName . To pass parameters to the class instance, the class must have an __init__() method. \n",
    "#       Pass the parameters in the constructor of the class."
   ]
  },
  {
   "cell_type": "markdown",
   "id": "103ec422",
   "metadata": {},
   "source": [
    "# Q3. Where and how should be class attributes created?"
   ]
  },
  {
   "cell_type": "code",
   "execution_count": 3,
   "id": "ecd76c8d",
   "metadata": {},
   "outputs": [],
   "source": [
    "# Ans : They are placed at the top, right below the class header."
   ]
  },
  {
   "cell_type": "markdown",
   "id": "a5d296de",
   "metadata": {},
   "source": [
    "# Q4. Where and how are instance attributes created?"
   ]
  },
  {
   "cell_type": "code",
   "execution_count": 4,
   "id": "cd19b140",
   "metadata": {},
   "outputs": [],
   "source": [
    "# Ans : An instance attribute is a Python variable belonging to one, and only one, object. \n",
    "#       This variable is only accessible in the scope of this object and it is defined inside the constructor \n",
    "#       function, __init__(self,..) of the class."
   ]
  },
  {
   "cell_type": "markdown",
   "id": "22da26f7",
   "metadata": {},
   "source": [
    "# Q5. What does the term \"self\" in a Python class mean?"
   ]
  },
  {
   "cell_type": "code",
   "execution_count": 5,
   "id": "1985ad06",
   "metadata": {},
   "outputs": [],
   "source": [
    "# Ans : 'self' represents the instance of the class. By using the “self” keyword we can access the attributes \n",
    "#       and methods of the class in python. It binds the attributes with the given arguments."
   ]
  },
  {
   "cell_type": "markdown",
   "id": "7f93c70f",
   "metadata": {},
   "source": [
    "# Q6. How does a Python class handle operator overloading?"
   ]
  },
  {
   "cell_type": "code",
   "execution_count": 6,
   "id": "547122d5",
   "metadata": {},
   "outputs": [],
   "source": [
    "# Ans : To perform operator overloading, Python provides some special function or magic function that is \n",
    "#       automatically invoked when it is associated with that particular operator."
   ]
  },
  {
   "cell_type": "markdown",
   "id": "865d0d66",
   "metadata": {},
   "source": [
    "# Q7. When do you consider allowing operator overloading of your classes?"
   ]
  },
  {
   "cell_type": "code",
   "execution_count": 7,
   "id": "8e82932b",
   "metadata": {},
   "outputs": [],
   "source": [
    "# Ans : The purpose of operator overloading is to provide a special meaning of an operator for a user-defined data type"
   ]
  },
  {
   "cell_type": "markdown",
   "id": "c81bf3fc",
   "metadata": {},
   "source": [
    "# Q8. What is the most popular form of operator overloading?"
   ]
  },
  {
   "cell_type": "code",
   "execution_count": 8,
   "id": "23490ae7",
   "metadata": {},
   "outputs": [],
   "source": [
    "# Ans : A very popular and convenient example is the Addition (+) operator. Just think how the '+' operator operates\n",
    "#       on two numbers and the same operator operates on two strings. It performs “Addition” on numbers whereas \n",
    "#       it performs “Concatenation” on strings."
   ]
  },
  {
   "cell_type": "markdown",
   "id": "862ec940",
   "metadata": {},
   "source": [
    "# Q9. What are the two most important concepts to grasp in order to comprehend Python OOP code?"
   ]
  },
  {
   "cell_type": "code",
   "execution_count": null,
   "id": "2f4e326a",
   "metadata": {},
   "outputs": [],
   "source": [
    "# Ans : Inheritance and Polymorphism are the two most important concepts to grasp in order\n",
    "#       to comprehend Python OOP code."
   ]
  }
 ],
 "metadata": {
  "kernelspec": {
   "display_name": "Python 3",
   "language": "python",
   "name": "python3"
  },
  "language_info": {
   "codemirror_mode": {
    "name": "ipython",
    "version": 3
   },
   "file_extension": ".py",
   "mimetype": "text/x-python",
   "name": "python",
   "nbconvert_exporter": "python",
   "pygments_lexer": "ipython3",
   "version": "3.8.8"
  }
 },
 "nbformat": 4,
 "nbformat_minor": 5
}
