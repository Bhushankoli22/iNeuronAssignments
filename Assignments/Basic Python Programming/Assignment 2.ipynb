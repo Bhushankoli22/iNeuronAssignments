{
 "cells": [
  {
   "cell_type": "markdown",
   "id": "e632724e",
   "metadata": {},
   "source": [
    "# 1. Write a Python program to convert kilometers to miles?"
   ]
  },
  {
   "cell_type": "code",
   "execution_count": 1,
   "id": "be844eaa",
   "metadata": {},
   "outputs": [],
   "source": [
    "# Ans : \n",
    "def km_to_mile(distance):\n",
    "    return distance*0.621371"
   ]
  },
  {
   "cell_type": "code",
   "execution_count": 2,
   "id": "0985131c",
   "metadata": {},
   "outputs": [
    {
     "data": {
      "text/plain": [
       "3.106855"
      ]
     },
     "execution_count": 2,
     "metadata": {},
     "output_type": "execute_result"
    }
   ],
   "source": [
    "km_to_mile(5)"
   ]
  },
  {
   "cell_type": "markdown",
   "id": "1e3907ed",
   "metadata": {},
   "source": [
    "# 2. Write a Python program to convert Celsius to Fahrenheit?"
   ]
  },
  {
   "cell_type": "code",
   "execution_count": 3,
   "id": "94332a63",
   "metadata": {},
   "outputs": [],
   "source": [
    "# Ans : \n",
    "def C_to_F(temp):\n",
    "    return (9*temp/5)+32"
   ]
  },
  {
   "cell_type": "code",
   "execution_count": 4,
   "id": "279ef14e",
   "metadata": {},
   "outputs": [
    {
     "data": {
      "text/plain": [
       "572.0"
      ]
     },
     "execution_count": 4,
     "metadata": {},
     "output_type": "execute_result"
    }
   ],
   "source": [
    "C_to_F(300)"
   ]
  },
  {
   "cell_type": "markdown",
   "id": "3e7ce708",
   "metadata": {},
   "source": [
    "# 3. Write a Python program to display calendar?"
   ]
  },
  {
   "cell_type": "code",
   "execution_count": 5,
   "id": "457459fc",
   "metadata": {},
   "outputs": [],
   "source": [
    "# Ans : \n",
    "import calendar\n",
    "def disp_calendar(year,month):\n",
    "    print(calendar.month(year,month))"
   ]
  },
  {
   "cell_type": "code",
   "execution_count": 6,
   "id": "01ee1f00",
   "metadata": {},
   "outputs": [
    {
     "name": "stdout",
     "output_type": "stream",
     "text": [
      "    January 2021\n",
      "Mo Tu We Th Fr Sa Su\n",
      "             1  2  3\n",
      " 4  5  6  7  8  9 10\n",
      "11 12 13 14 15 16 17\n",
      "18 19 20 21 22 23 24\n",
      "25 26 27 28 29 30 31\n",
      "\n"
     ]
    }
   ],
   "source": [
    "disp_calendar(2021,1)"
   ]
  },
  {
   "cell_type": "markdown",
   "id": "8129e055",
   "metadata": {},
   "source": [
    "# 4. Write a Python program to solve quadratic equation?"
   ]
  },
  {
   "cell_type": "code",
   "execution_count": 7,
   "id": "f0d7cb6e",
   "metadata": {},
   "outputs": [],
   "source": [
    "# Ans : \n",
    "import math\n",
    "def roots(a,b,c):## taking all coefficients of quadratic equation as input to fuction root\n",
    "    root1=(-1*b+math.sqrt(b**2-(4*a*c)))/(2*a)\n",
    "    root2=(-1*b-math.sqrt(b**2-(4*a*c)))/(2*a)\n",
    "    return root1,root2"
   ]
  },
  {
   "cell_type": "code",
   "execution_count": 8,
   "id": "a84ed49d",
   "metadata": {},
   "outputs": [
    {
     "data": {
      "text/plain": [
       "(2.0, 1.0)"
      ]
     },
     "execution_count": 8,
     "metadata": {},
     "output_type": "execute_result"
    }
   ],
   "source": [
    "roots(1,-3,2)"
   ]
  },
  {
   "cell_type": "markdown",
   "id": "aeac0790",
   "metadata": {},
   "source": [
    "# 5. Write a Python program to swap two variables without temp variable? "
   ]
  },
  {
   "cell_type": "code",
   "execution_count": 9,
   "id": "d3463b77",
   "metadata": {},
   "outputs": [],
   "source": [
    "# Ans : \n",
    "def swap(a,b):\n",
    "    print('Value of a before swapping: {}'.format(a))\n",
    "    print('Value of b before swapping: {}'.format(b))\n",
    "    a,b=b,a\n",
    "    print('Value of a after swapping: {}'.format(a))\n",
    "    print('Value of b after swapping: {}'.format(b))"
   ]
  },
  {
   "cell_type": "code",
   "execution_count": 10,
   "id": "cc482fcb",
   "metadata": {},
   "outputs": [
    {
     "name": "stdout",
     "output_type": "stream",
     "text": [
      "Value of a before swapping: 5\n",
      "Value of b before swapping: 9\n",
      "Value of a after swapping: 9\n",
      "Value of b after swapping: 5\n"
     ]
    }
   ],
   "source": [
    "swap(5,9)"
   ]
  }
 ],
 "metadata": {
  "kernelspec": {
   "display_name": "Python 3 (ipykernel)",
   "language": "python",
   "name": "python3"
  },
  "language_info": {
   "codemirror_mode": {
    "name": "ipython",
    "version": 3
   },
   "file_extension": ".py",
   "mimetype": "text/x-python",
   "name": "python",
   "nbconvert_exporter": "python",
   "pygments_lexer": "ipython3",
   "version": "3.9.7"
  }
 },
 "nbformat": 4,
 "nbformat_minor": 5
}
