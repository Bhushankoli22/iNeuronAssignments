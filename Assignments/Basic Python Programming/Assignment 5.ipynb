{
 "cells": [
  {
   "cell_type": "markdown",
   "id": "6cc468cf",
   "metadata": {},
   "source": [
    "# 1. Write a Python Program to Find LCM?"
   ]
  },
  {
   "cell_type": "code",
   "execution_count": 1,
   "id": "f6ff9270",
   "metadata": {},
   "outputs": [],
   "source": [
    "# Ans : \n",
    "def lcm(a,b):\n",
    "    m=max(a,b)\n",
    "    while(1):\n",
    "        if m%a==0 and m%b==0:\n",
    "            break\n",
    "        m+=1\n",
    "    return m"
   ]
  },
  {
   "cell_type": "code",
   "execution_count": 2,
   "id": "a5c6726b",
   "metadata": {},
   "outputs": [
    {
     "data": {
      "text/plain": [
       "45"
      ]
     },
     "execution_count": 2,
     "metadata": {},
     "output_type": "execute_result"
    }
   ],
   "source": [
    "lcm(9,15)"
   ]
  },
  {
   "cell_type": "markdown",
   "id": "08e48f06",
   "metadata": {},
   "source": [
    "# 2. Write a Python Program to Find HCF?"
   ]
  },
  {
   "cell_type": "code",
   "execution_count": 3,
   "id": "fe9b4c07",
   "metadata": {},
   "outputs": [],
   "source": [
    "# Ans : \n",
    "def hcf(a,b):\n",
    "    return ((a*b)//lcm(a,b))"
   ]
  },
  {
   "cell_type": "code",
   "execution_count": 4,
   "id": "a09ec521",
   "metadata": {},
   "outputs": [
    {
     "data": {
      "text/plain": [
       "3"
      ]
     },
     "execution_count": 4,
     "metadata": {},
     "output_type": "execute_result"
    }
   ],
   "source": [
    "hcf(3,15)"
   ]
  },
  {
   "cell_type": "markdown",
   "id": "aea3ec54",
   "metadata": {},
   "source": [
    "# 3. Write a Python Program to Convert Decimal to Binary, Octal and Hexadecimal?"
   ]
  },
  {
   "cell_type": "code",
   "execution_count": 5,
   "id": "a39be80d",
   "metadata": {},
   "outputs": [],
   "source": [
    "# Ans : \n",
    "def decimal_to_binary(num):\n",
    "    s=''\n",
    "    while num>0:\n",
    "        s=s+str(num%2)\n",
    "        num//=2\n",
    "    return int(s[::-1])"
   ]
  },
  {
   "cell_type": "code",
   "execution_count": 6,
   "id": "3ebe8e85",
   "metadata": {},
   "outputs": [
    {
     "data": {
      "text/plain": [
       "1001"
      ]
     },
     "execution_count": 6,
     "metadata": {},
     "output_type": "execute_result"
    }
   ],
   "source": [
    "decimal_to_binary(9)"
   ]
  },
  {
   "cell_type": "code",
   "execution_count": 7,
   "id": "952614e6",
   "metadata": {},
   "outputs": [],
   "source": [
    "def decimal_to_octal(num):\n",
    "    s=''\n",
    "    while num>0:\n",
    "        s=s+str(num%8)\n",
    "        num//=8\n",
    "    return int(s[::-1])"
   ]
  },
  {
   "cell_type": "code",
   "execution_count": 8,
   "id": "f1046b37",
   "metadata": {},
   "outputs": [
    {
     "data": {
      "text/plain": [
       "31"
      ]
     },
     "execution_count": 8,
     "metadata": {},
     "output_type": "execute_result"
    }
   ],
   "source": [
    "decimal_to_octal(25)"
   ]
  },
  {
   "cell_type": "code",
   "execution_count": 9,
   "id": "6d7cd1a0",
   "metadata": {},
   "outputs": [],
   "source": [
    "def decimal_to_hexadecimal(num):\n",
    "    s=''\n",
    "    while num>0:\n",
    "        if num%16<10:\n",
    "            s=s+str(num%16)\n",
    "        else:\n",
    "            s=s+chr(num%16+55)\n",
    "        num//=16\n",
    "    return (s[::-1])"
   ]
  },
  {
   "cell_type": "code",
   "execution_count": 10,
   "id": "b279effa",
   "metadata": {},
   "outputs": [
    {
     "data": {
      "text/plain": [
       "'1E'"
      ]
     },
     "execution_count": 10,
     "metadata": {},
     "output_type": "execute_result"
    }
   ],
   "source": [
    "decimal_to_hexadecimal(30)"
   ]
  },
  {
   "cell_type": "markdown",
   "id": "dc47fa64",
   "metadata": {},
   "source": [
    "# 4. Write a Python Program To Find ASCII value of a character?"
   ]
  },
  {
   "cell_type": "code",
   "execution_count": 11,
   "id": "ea6b55bc",
   "metadata": {},
   "outputs": [],
   "source": [
    "# Ans : \n",
    "def ascii_value(char):\n",
    "    return ord(char)"
   ]
  },
  {
   "cell_type": "code",
   "execution_count": 12,
   "id": "4e89c112",
   "metadata": {},
   "outputs": [
    {
     "data": {
      "text/plain": [
       "65"
      ]
     },
     "execution_count": 12,
     "metadata": {},
     "output_type": "execute_result"
    }
   ],
   "source": [
    "ascii_value('A')"
   ]
  },
  {
   "cell_type": "markdown",
   "id": "6360ba5d",
   "metadata": {},
   "source": [
    "# 5. Write a Python Program to Make a Simple Calculator with 4 basic mathematical operations?"
   ]
  },
  {
   "cell_type": "code",
   "execution_count": 15,
   "id": "7874cb93",
   "metadata": {},
   "outputs": [
    {
     "name": "stdout",
     "output_type": "stream",
     "text": [
      "Enter num1 :9\n",
      "Enter num2 :5\n",
      "Enter + for addition : \n",
      "Enter - for Subtraction :\n",
      "Enter * for multiplication :\n",
      "Enter / for division : +\n",
      "9.0 + 5.0 = 14.0\n"
     ]
    }
   ],
   "source": [
    "# Ans : \n",
    "num1 = float(input(\"Enter num1 :\"))\n",
    "num2 = float(input(\"Enter num2 :\"))\n",
    "\n",
    "operation = input(\"Enter + for addition : \\nEnter - for Subtraction :\\nEnter * for multiplication :\\nEnter / for division : \")\n",
    "\n",
    "add = num1 + num2\n",
    "sub = num1 - num2\n",
    "mul = num1 * num2\n",
    "\n",
    "\n",
    "if operation == \"+\":\n",
    "    print(\"{} + {} = {}\".format(num1,num2,add))\n",
    "elif operation == \"-\":\n",
    "    print(\"{} - {} = {}\".format(num1,num2,sub))\n",
    "elif operation == \"*\":\n",
    "    print(\"{} * {} = {}\".format(num1,num2,mul))\n",
    "elif operation == \"/\":\n",
    "    if num1 == 0 or num2 == 0:\n",
    "        print(\"Division with zero is not possible\")\n",
    "    else:\n",
    "        div = num1 / num2\n",
    "        print(\"{} / {} = {}\".format(num1,num2,div))\n",
    "else:\n",
    "    print(\"Invalid input\")"
   ]
  }
 ],
 "metadata": {
  "kernelspec": {
   "display_name": "Python 3 (ipykernel)",
   "language": "python",
   "name": "python3"
  },
  "language_info": {
   "codemirror_mode": {
    "name": "ipython",
    "version": 3
   },
   "file_extension": ".py",
   "mimetype": "text/x-python",
   "name": "python",
   "nbconvert_exporter": "python",
   "pygments_lexer": "ipython3",
   "version": "3.9.7"
  }
 },
 "nbformat": 4,
 "nbformat_minor": 5
}
