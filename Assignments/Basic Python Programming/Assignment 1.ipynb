{
 "cells": [
  {
   "cell_type": "markdown",
   "id": "5418a74b",
   "metadata": {},
   "source": [
    "# 1. Write a Python program to print &quot;Hello Python&quot;?"
   ]
  },
  {
   "cell_type": "code",
   "execution_count": 1,
   "id": "6c3be567",
   "metadata": {},
   "outputs": [
    {
     "name": "stdout",
     "output_type": "stream",
     "text": [
      "Hello Python\n"
     ]
    }
   ],
   "source": [
    "# Ans : \n",
    "print(\"Hello Python\")"
   ]
  },
  {
   "cell_type": "markdown",
   "id": "7522cc4e",
   "metadata": {},
   "source": [
    "# 2. Write a Python program to do arithmetical operations addition and division.?"
   ]
  },
  {
   "cell_type": "code",
   "execution_count": 2,
   "id": "1cc071a5",
   "metadata": {},
   "outputs": [],
   "source": [
    "# Ans : \n",
    "def addition(a,b):\n",
    "    return a+b\n",
    "def division(x,y):\n",
    "    if y!=0:\n",
    "        return x/y\n",
    "    else:\n",
    "        print('Divison not possible')"
   ]
  },
  {
   "cell_type": "code",
   "execution_count": 3,
   "id": "1f38419b",
   "metadata": {},
   "outputs": [
    {
     "data": {
      "text/plain": [
       "3"
      ]
     },
     "execution_count": 3,
     "metadata": {},
     "output_type": "execute_result"
    }
   ],
   "source": [
    "addition(1,2)"
   ]
  },
  {
   "cell_type": "code",
   "execution_count": 4,
   "id": "9f081c34",
   "metadata": {},
   "outputs": [
    {
     "data": {
      "text/plain": [
       "1.0"
      ]
     },
     "execution_count": 4,
     "metadata": {},
     "output_type": "execute_result"
    }
   ],
   "source": [
    "division(5,5)"
   ]
  },
  {
   "cell_type": "markdown",
   "id": "905e158c",
   "metadata": {},
   "source": [
    "# 3. Write a Python program to find the area of a triangle?"
   ]
  },
  {
   "cell_type": "code",
   "execution_count": 5,
   "id": "d5fcf79a",
   "metadata": {},
   "outputs": [],
   "source": [
    "# Ans : \n",
    "def area_of_triangle(base,height):\n",
    "    return 0.5*base*height"
   ]
  },
  {
   "cell_type": "code",
   "execution_count": 6,
   "id": "f073ee73",
   "metadata": {},
   "outputs": [
    {
     "data": {
      "text/plain": [
       "28.0"
      ]
     },
     "execution_count": 6,
     "metadata": {},
     "output_type": "execute_result"
    }
   ],
   "source": [
    "area_of_triangle(7,8)"
   ]
  },
  {
   "cell_type": "markdown",
   "id": "89ec0405",
   "metadata": {},
   "source": [
    "# 4. Write a Python program to swap two variables?"
   ]
  },
  {
   "cell_type": "code",
   "execution_count": 7,
   "id": "f1c19f52",
   "metadata": {},
   "outputs": [],
   "source": [
    "# Ans :\n",
    "def swap(a,b):\n",
    "    print('Value of a before swapping: {}'.format(a))\n",
    "    print('Value of b before swapping: {}'.format(b))\n",
    "    a,b=b,a\n",
    "    print('Value of a after swapping: {}'.format(a))\n",
    "    print('Value of b after swapping: {}'.format(b))"
   ]
  },
  {
   "cell_type": "code",
   "execution_count": 8,
   "id": "7be9606b",
   "metadata": {},
   "outputs": [
    {
     "name": "stdout",
     "output_type": "stream",
     "text": [
      "Value of a before swapping: 3\n",
      "Value of b before swapping: 4\n",
      "Value of a after swapping: 4\n",
      "Value of b after swapping: 3\n"
     ]
    }
   ],
   "source": [
    "a=3\n",
    "b=4\n",
    "swap(a,b)"
   ]
  },
  {
   "cell_type": "markdown",
   "id": "a2b5bdf6",
   "metadata": {},
   "source": [
    "# 5. Write a Python program to generate a random number?"
   ]
  },
  {
   "cell_type": "code",
   "execution_count": 9,
   "id": "ae8d8669",
   "metadata": {},
   "outputs": [],
   "source": [
    "# Ans : \n",
    "import random\n",
    "def random_integer():\n",
    "    print(random.randint(0,100))"
   ]
  },
  {
   "cell_type": "code",
   "execution_count": 10,
   "id": "6c0c8a5e",
   "metadata": {},
   "outputs": [
    {
     "name": "stdout",
     "output_type": "stream",
     "text": [
      "88\n"
     ]
    }
   ],
   "source": [
    "random_integer()"
   ]
  }
 ],
 "metadata": {
  "kernelspec": {
   "display_name": "Python 3 (ipykernel)",
   "language": "python",
   "name": "python3"
  },
  "language_info": {
   "codemirror_mode": {
    "name": "ipython",
    "version": 3
   },
   "file_extension": ".py",
   "mimetype": "text/x-python",
   "name": "python",
   "nbconvert_exporter": "python",
   "pygments_lexer": "ipython3",
   "version": "3.9.7"
  }
 },
 "nbformat": 4,
 "nbformat_minor": 5
}
