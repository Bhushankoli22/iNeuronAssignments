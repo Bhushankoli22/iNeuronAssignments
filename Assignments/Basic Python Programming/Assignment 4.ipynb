{
 "cells": [
  {
   "cell_type": "markdown",
   "id": "4782f94e",
   "metadata": {},
   "source": [
    "# 1. Write a Python Program to Find the Factorial of a Number?"
   ]
  },
  {
   "cell_type": "code",
   "execution_count": 1,
   "id": "dcbda124",
   "metadata": {},
   "outputs": [],
   "source": [
    "# Ans : \n",
    "def factorial(num):\n",
    "    if num==0 or num==1:\n",
    "        return 1\n",
    "    else:\n",
    "        return num*factorial(num-1)"
   ]
  },
  {
   "cell_type": "code",
   "execution_count": 2,
   "id": "ee7dff64",
   "metadata": {},
   "outputs": [
    {
     "data": {
      "text/plain": [
       "120"
      ]
     },
     "execution_count": 2,
     "metadata": {},
     "output_type": "execute_result"
    }
   ],
   "source": [
    "factorial(5)"
   ]
  },
  {
   "cell_type": "markdown",
   "id": "394e9ff8",
   "metadata": {},
   "source": [
    "# 2. Write a Python Program to Display the multiplication Table?"
   ]
  },
  {
   "cell_type": "code",
   "execution_count": 3,
   "id": "96f244f8",
   "metadata": {},
   "outputs": [],
   "source": [
    "# Ans : \n",
    "def table(num):\n",
    "    for i in range(1,11):\n",
    "        print(num*i)"
   ]
  },
  {
   "cell_type": "code",
   "execution_count": 4,
   "id": "c02189b5",
   "metadata": {},
   "outputs": [
    {
     "name": "stdout",
     "output_type": "stream",
     "text": [
      "6\n",
      "12\n",
      "18\n",
      "24\n",
      "30\n",
      "36\n",
      "42\n",
      "48\n",
      "54\n",
      "60\n"
     ]
    }
   ],
   "source": [
    "table(6)"
   ]
  },
  {
   "cell_type": "markdown",
   "id": "e0bca066",
   "metadata": {},
   "source": [
    "# 3. Write a Python Program to Print the Fibonacci sequence?"
   ]
  },
  {
   "cell_type": "code",
   "execution_count": 5,
   "id": "2b2edfe3",
   "metadata": {},
   "outputs": [],
   "source": [
    "# Ans : \n",
    "def fibonacci(num): ## print fibonacci series upto given number\n",
    "    prev=0\n",
    "    current=1\n",
    "    print(0)\n",
    "    while(current<num):\n",
    "        print(current)\n",
    "        current,prev=current+prev,current"
   ]
  },
  {
   "cell_type": "code",
   "execution_count": 6,
   "id": "b8a55f54",
   "metadata": {},
   "outputs": [
    {
     "name": "stdout",
     "output_type": "stream",
     "text": [
      "0\n",
      "1\n",
      "1\n",
      "2\n",
      "3\n",
      "5\n",
      "8\n",
      "13\n",
      "21\n",
      "34\n",
      "55\n",
      "89\n",
      "144\n",
      "233\n",
      "377\n",
      "610\n",
      "987\n",
      "1597\n",
      "2584\n",
      "4181\n",
      "6765\n"
     ]
    }
   ],
   "source": [
    "fibonacci(10000)"
   ]
  },
  {
   "cell_type": "markdown",
   "id": "52a409b3",
   "metadata": {},
   "source": [
    "# 4. Write a Python Program to Check Armstrong Number?"
   ]
  },
  {
   "cell_type": "code",
   "execution_count": 7,
   "id": "d4d3dfb2",
   "metadata": {},
   "outputs": [],
   "source": [
    "# Ans : \n",
    "def armstrong(num):\n",
    "    count=len(str(num))\n",
    "    s=0\n",
    "    j=num\n",
    "    while num>0:\n",
    "        s=s+((num%10)**count)\n",
    "        num=int(num/10)\n",
    "    if s==j:\n",
    "        print('Armstrong')\n",
    "    else:\n",
    "        print('Not Armstrong')"
   ]
  },
  {
   "cell_type": "code",
   "execution_count": 8,
   "id": "ae2e887b",
   "metadata": {},
   "outputs": [
    {
     "name": "stdout",
     "output_type": "stream",
     "text": [
      "Not Armstrong\n"
     ]
    }
   ],
   "source": [
    "armstrong(200)"
   ]
  },
  {
   "cell_type": "markdown",
   "id": "e77cb99b",
   "metadata": {},
   "source": [
    "# 5. Write a Python Program to Find Armstrong Number in an Interval?"
   ]
  },
  {
   "cell_type": "code",
   "execution_count": 9,
   "id": "1409806f",
   "metadata": {},
   "outputs": [],
   "source": [
    "# Ans : \n",
    "def armstrong_interval(start,end):\n",
    "    num=start\n",
    "    while num<=end:\n",
    "        count=len(str(num))\n",
    "        s=0\n",
    "        j=num\n",
    "        while j>0:\n",
    "            s=s+((j%10)**count)\n",
    "            j=int(j/10)\n",
    "        if s==num:\n",
    "            print(num)\n",
    "        num+=1"
   ]
  },
  {
   "cell_type": "code",
   "execution_count": 10,
   "id": "7c9396a3",
   "metadata": {},
   "outputs": [
    {
     "name": "stdout",
     "output_type": "stream",
     "text": [
      "1\n",
      "2\n",
      "3\n",
      "4\n",
      "5\n",
      "6\n",
      "7\n",
      "8\n",
      "9\n",
      "153\n",
      "370\n",
      "371\n",
      "407\n",
      "1634\n",
      "8208\n",
      "9474\n"
     ]
    }
   ],
   "source": [
    "armstrong_interval(1,10000)"
   ]
  },
  {
   "cell_type": "markdown",
   "id": "df3dc97b",
   "metadata": {},
   "source": [
    "# 6. Write a Python Program to Find the Sum of Natural Numbers?"
   ]
  },
  {
   "cell_type": "code",
   "execution_count": 12,
   "id": "6ddcd24c",
   "metadata": {},
   "outputs": [],
   "source": [
    "# Ans : \n",
    "def sum_natural(num):\n",
    "    return int((num*(num+1))/2)"
   ]
  },
  {
   "cell_type": "code",
   "execution_count": 13,
   "id": "3edb3a9f",
   "metadata": {},
   "outputs": [
    {
     "data": {
      "text/plain": [
       "55"
      ]
     },
     "execution_count": 13,
     "metadata": {},
     "output_type": "execute_result"
    }
   ],
   "source": [
    "sum_natural(10)"
   ]
  }
 ],
 "metadata": {
  "kernelspec": {
   "display_name": "Python 3 (ipykernel)",
   "language": "python",
   "name": "python3"
  },
  "language_info": {
   "codemirror_mode": {
    "name": "ipython",
    "version": 3
   },
   "file_extension": ".py",
   "mimetype": "text/x-python",
   "name": "python",
   "nbconvert_exporter": "python",
   "pygments_lexer": "ipython3",
   "version": "3.9.7"
  }
 },
 "nbformat": 4,
 "nbformat_minor": 5
}
