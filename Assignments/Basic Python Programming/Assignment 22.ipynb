{
 "cells": [
  {
   "cell_type": "markdown",
   "id": "e35d37f5",
   "metadata": {},
   "source": [
    "# Question1 : Create a function that takes three parameters where :\n",
    "x is the start of the range (inclusive).\n",
    "y is the end of the range (inclusive).\n",
    "n is the divisor to be checked against.\n",
    "Return an ordered list with numbers in the range that are divisible by the third parameter n.\n",
    "Return an empty list if there are no numbers that are divisible by n.\n",
    "Examples\n",
    "list_operation(1, 10, 3) ➞ [3, 6, 9]\n",
    "list_operation(7, 9, 2) ➞ [8]\n",
    "list_operation(15, 20, 7) ➞ []"
   ]
  },
  {
   "cell_type": "code",
   "execution_count": 7,
   "id": "69fea496",
   "metadata": {},
   "outputs": [],
   "source": [
    "# Ans : \n",
    "def list_operation(x,y,n):\n",
    "    \n",
    "    divisor = []\n",
    "    nonDiv = []\n",
    "    for i in range(x,y+1):\n",
    "        if i % n == 0:\n",
    "            divisor.append(i)\n",
    "    return divisor"
   ]
  },
  {
   "cell_type": "code",
   "execution_count": 8,
   "id": "ad4b738e",
   "metadata": {},
   "outputs": [
    {
     "data": {
      "text/plain": [
       "[3, 6, 9]"
      ]
     },
     "execution_count": 8,
     "metadata": {},
     "output_type": "execute_result"
    }
   ],
   "source": [
    "list_operation(1, 10, 3)"
   ]
  },
  {
   "cell_type": "code",
   "execution_count": 9,
   "id": "2ed48f5a",
   "metadata": {},
   "outputs": [
    {
     "data": {
      "text/plain": [
       "[8]"
      ]
     },
     "execution_count": 9,
     "metadata": {},
     "output_type": "execute_result"
    }
   ],
   "source": [
    "list_operation(7, 9, 2)"
   ]
  },
  {
   "cell_type": "code",
   "execution_count": 10,
   "id": "598ee5d1",
   "metadata": {},
   "outputs": [
    {
     "data": {
      "text/plain": [
       "[]"
      ]
     },
     "execution_count": 10,
     "metadata": {},
     "output_type": "execute_result"
    }
   ],
   "source": [
    "list_operation(15, 20, 7)"
   ]
  },
  {
   "cell_type": "markdown",
   "id": "2494b351",
   "metadata": {},
   "source": [
    "# Question2 : Create a function that takes in two lists and returns True if the second list follows the first list by one element, and False otherwise. In other words, determine if the second list is the first list shifted to the right by 1.\n",
    "Examples\n",
    "simon_says([1, 2], [5, 1]) ➞ True\n",
    "simon_says([1, 2], [5, 5]) ➞ False\n",
    "simon_says([1, 2, 3, 4, 5], [0, 1, 2, 3, 4]) ➞ True\n",
    "simon_says([1, 2, 3, 4, 5], [5, 5, 1, 2, 3]) ➞ False\n",
    "Notes\n",
    " Both input lists will be of the same length, and will have a minimum length of 2.\n",
    " The values of the 0-indexed element in the second list and the n-1th indexed element\n",
    "in the first list do not matter."
   ]
  },
  {
   "cell_type": "code",
   "execution_count": 11,
   "id": "ff057196",
   "metadata": {},
   "outputs": [],
   "source": [
    "# Ans : \n",
    "def simon_says(ls,ls2):\n",
    "    if ls[0:len(ls)-1] == ls2[1:len(ls2)]:\n",
    "        return True\n",
    "    return False"
   ]
  },
  {
   "cell_type": "code",
   "execution_count": 12,
   "id": "dd09c767",
   "metadata": {},
   "outputs": [
    {
     "data": {
      "text/plain": [
       "True"
      ]
     },
     "execution_count": 12,
     "metadata": {},
     "output_type": "execute_result"
    }
   ],
   "source": [
    "simon_says([1, 2], [5, 1])"
   ]
  },
  {
   "cell_type": "code",
   "execution_count": 13,
   "id": "968e8998",
   "metadata": {},
   "outputs": [
    {
     "data": {
      "text/plain": [
       "False"
      ]
     },
     "execution_count": 13,
     "metadata": {},
     "output_type": "execute_result"
    }
   ],
   "source": [
    "simon_says([1, 2], [5, 5])"
   ]
  },
  {
   "cell_type": "code",
   "execution_count": 14,
   "id": "712d95bc",
   "metadata": {},
   "outputs": [
    {
     "data": {
      "text/plain": [
       "True"
      ]
     },
     "execution_count": 14,
     "metadata": {},
     "output_type": "execute_result"
    }
   ],
   "source": [
    "simon_says([1, 2, 3, 4, 5], [0, 1, 2, 3, 4])"
   ]
  },
  {
   "cell_type": "code",
   "execution_count": 15,
   "id": "e2755c99",
   "metadata": {},
   "outputs": [
    {
     "data": {
      "text/plain": [
       "False"
      ]
     },
     "execution_count": 15,
     "metadata": {},
     "output_type": "execute_result"
    }
   ],
   "source": [
    "simon_says([1, 2, 3, 4, 5], [5, 5, 1, 2, 3])"
   ]
  },
  {
   "cell_type": "markdown",
   "id": "4bd1eb16",
   "metadata": {},
   "source": [
    "# Question3 : A group of friends have decided to start a secret society. The name will be the first letter ofeach of their names, sorted in alphabetical order. Create a function that takes in a list of names and returns the name of the secret society.\n",
    "Examples\n",
    "society_name(['Adam', 'Sarah', 'Malcolm']) ➞ 'AMS'\n",
    "society_name(['Harry', 'Newt', 'Luna', 'Cho']) ➞ 'CHLN'\n",
    "society_name(['Phoebe', 'Chandler', 'Rachel', 'Ross', 'Monica', 'Joey'])"
   ]
  },
  {
   "cell_type": "code",
   "execution_count": 16,
   "id": "f3d42332",
   "metadata": {},
   "outputs": [],
   "source": [
    "# Ans : \n",
    "def society_name(lst):\n",
    "    return ''.join([i[0] for i in sorted(lst)])"
   ]
  },
  {
   "cell_type": "code",
   "execution_count": 17,
   "id": "67771c1d",
   "metadata": {},
   "outputs": [
    {
     "data": {
      "text/plain": [
       "'AMS'"
      ]
     },
     "execution_count": 17,
     "metadata": {},
     "output_type": "execute_result"
    }
   ],
   "source": [
    "society_name(['Adam', 'Sarah', 'Malcolm'])"
   ]
  },
  {
   "cell_type": "code",
   "execution_count": 18,
   "id": "5ff5aad7",
   "metadata": {},
   "outputs": [
    {
     "data": {
      "text/plain": [
       "'CHLN'"
      ]
     },
     "execution_count": 18,
     "metadata": {},
     "output_type": "execute_result"
    }
   ],
   "source": [
    "society_name(['Harry', 'Newt', 'Luna', 'Cho'])"
   ]
  },
  {
   "cell_type": "code",
   "execution_count": 19,
   "id": "76a4f675",
   "metadata": {},
   "outputs": [
    {
     "data": {
      "text/plain": [
       "'CJMPRR'"
      ]
     },
     "execution_count": 19,
     "metadata": {},
     "output_type": "execute_result"
    }
   ],
   "source": [
    "society_name(['Phoebe', 'Chandler', 'Rachel', 'Ross', 'Monica', 'Joey'])"
   ]
  },
  {
   "cell_type": "markdown",
   "id": "df4588b8",
   "metadata": {},
   "source": [
    "# Question4 : An isogram is a word that has no duplicate letters. Create a function that takes a string and returns either True or False depending on whether or not it's an 'isogram'.\n",
    "Examples\n",
    "is_isogram('Algorism') ➞ True\n",
    "is_isogram('PasSword') ➞ False\n",
    "# Not case sensitive.\n",
    "is_isogram('Consecutive') ➞ False\n",
    "Notes\n",
    " Ignore letter case (should not be case sensitive).\n",
    " All test cases contain valid one word strings."
   ]
  },
  {
   "cell_type": "code",
   "execution_count": 20,
   "id": "b0eb983d",
   "metadata": {},
   "outputs": [],
   "source": [
    "# Ans : \n",
    "def is_isogram(s):\n",
    "    for i in range(len(s)):\n",
    "        if s.lower().count(s[i]) > 1:\n",
    "            return False\n",
    "    else:\n",
    "        return True"
   ]
  },
  {
   "cell_type": "code",
   "execution_count": 21,
   "id": "ca281a7a",
   "metadata": {},
   "outputs": [
    {
     "data": {
      "text/plain": [
       "True"
      ]
     },
     "execution_count": 21,
     "metadata": {},
     "output_type": "execute_result"
    }
   ],
   "source": [
    "is_isogram('Algorism')"
   ]
  },
  {
   "cell_type": "code",
   "execution_count": 22,
   "id": "e43e76c9",
   "metadata": {},
   "outputs": [
    {
     "data": {
      "text/plain": [
       "False"
      ]
     },
     "execution_count": 22,
     "metadata": {},
     "output_type": "execute_result"
    }
   ],
   "source": [
    "is_isogram('PasSword')"
   ]
  },
  {
   "cell_type": "code",
   "execution_count": 23,
   "id": "e985db80",
   "metadata": {},
   "outputs": [
    {
     "data": {
      "text/plain": [
       "False"
      ]
     },
     "execution_count": 23,
     "metadata": {},
     "output_type": "execute_result"
    }
   ],
   "source": [
    "is_isogram('Consecutive')"
   ]
  },
  {
   "cell_type": "markdown",
   "id": "1195b13f",
   "metadata": {},
   "source": [
    "# Question5: Create a function that takes a string and returns True or False, depending on whether the characters are in order or not.\n",
    "Examples\n",
    "is_in_order('abc') ➞ True\n",
    "is_in_order('edabit') ➞ False\n",
    "is_in_order('123') ➞ True\n",
    "is_in_order('xyzz') ➞ True\n",
    "Notes\n",
    "You don't have to handle empty strings."
   ]
  },
  {
   "cell_type": "code",
   "execution_count": 24,
   "id": "699ebc6d",
   "metadata": {},
   "outputs": [],
   "source": [
    "# Ans : \n",
    "def is_in_order(s):\n",
    "    n = len(s)\n",
    "    c = [s[i] for i in range(len(s))]\n",
    "    c.sort()\n",
    "    for i in range(n):\n",
    "        if c[i] != s[i]:\n",
    "            return False\n",
    "    return True"
   ]
  },
  {
   "cell_type": "code",
   "execution_count": 25,
   "id": "ca69bb54",
   "metadata": {},
   "outputs": [
    {
     "data": {
      "text/plain": [
       "True"
      ]
     },
     "execution_count": 25,
     "metadata": {},
     "output_type": "execute_result"
    }
   ],
   "source": [
    "is_in_order('abc')"
   ]
  },
  {
   "cell_type": "code",
   "execution_count": 26,
   "id": "0fb28ef8",
   "metadata": {},
   "outputs": [
    {
     "data": {
      "text/plain": [
       "False"
      ]
     },
     "execution_count": 26,
     "metadata": {},
     "output_type": "execute_result"
    }
   ],
   "source": [
    "is_in_order('edabit')"
   ]
  },
  {
   "cell_type": "code",
   "execution_count": 27,
   "id": "198dffa5",
   "metadata": {},
   "outputs": [
    {
     "data": {
      "text/plain": [
       "True"
      ]
     },
     "execution_count": 27,
     "metadata": {},
     "output_type": "execute_result"
    }
   ],
   "source": [
    "is_in_order('123')"
   ]
  },
  {
   "cell_type": "code",
   "execution_count": 28,
   "id": "23f326fb",
   "metadata": {},
   "outputs": [
    {
     "data": {
      "text/plain": [
       "True"
      ]
     },
     "execution_count": 28,
     "metadata": {},
     "output_type": "execute_result"
    }
   ],
   "source": [
    "is_in_order('xyzz')"
   ]
  }
 ],
 "metadata": {
  "kernelspec": {
   "display_name": "Python 3 (ipykernel)",
   "language": "python",
   "name": "python3"
  },
  "language_info": {
   "codemirror_mode": {
    "name": "ipython",
    "version": 3
   },
   "file_extension": ".py",
   "mimetype": "text/x-python",
   "name": "python",
   "nbconvert_exporter": "python",
   "pygments_lexer": "ipython3",
   "version": "3.9.7"
  }
 },
 "nbformat": 4,
 "nbformat_minor": 5
}
