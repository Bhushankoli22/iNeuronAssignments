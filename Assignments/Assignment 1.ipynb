{
 "cells": [
  {
   "cell_type": "markdown",
   "id": "66264852",
   "metadata": {},
   "source": [
    "# Q1. What is the purpose of Python's OOP?"
   ]
  },
  {
   "cell_type": "code",
   "execution_count": 1,
   "id": "78945192",
   "metadata": {},
   "outputs": [],
   "source": [
    "# Ans : Object Oriented programming (OOP) is a programming process that relies on the concept of classes and objects.\n",
    "#       It is used to structure a software program into simple, reusable pieces of code blueprints (usually called \n",
    "#       classes), which are used to create individual instances of objects."
   ]
  },
  {
   "cell_type": "markdown",
   "id": "28bda413",
   "metadata": {},
   "source": [
    "# Q2. Where does an inheritance search look for an attribute?"
   ]
  },
  {
   "cell_type": "code",
   "execution_count": 2,
   "id": "c77f1ec7",
   "metadata": {},
   "outputs": [],
   "source": [
    "# Ans : All of these objects are namespaces (packages of variables), and the inheritance search is simply a search \n",
    "#       of the tree from bottom to top looking for the lowest occurrence of an attribute name."
   ]
  },
  {
   "cell_type": "markdown",
   "id": "1b5428cf",
   "metadata": {},
   "source": [
    "# Q3. How do you distinguish between a class object and an instance object?"
   ]
  },
  {
   "cell_type": "code",
   "execution_count": 3,
   "id": "9c2abcdd",
   "metadata": {},
   "outputs": [],
   "source": [
    "# Ans : A blueprint for a house design is like a class description. All the houses built from that blueprint\n",
    "#       are objects of that class. A given house is an instance."
   ]
  },
  {
   "cell_type": "markdown",
   "id": "80491eef",
   "metadata": {},
   "source": [
    "# Q4. What makes the first argument in a class’s method function special?"
   ]
  },
  {
   "cell_type": "code",
   "execution_count": 4,
   "id": "a7d555c7",
   "metadata": {},
   "outputs": [],
   "source": [
    "# Ans : The calling process is automatic while the receiving process is not (its explicit). \n",
    "#       This is the reason the first parameter of a function in class must be the object itself. \n",
    "#       Writing this parameter as self is merely a convention. It is not a keyword and has no special \n",
    "#       meaning in Python."
   ]
  },
  {
   "cell_type": "markdown",
   "id": "d53fe6b4",
   "metadata": {},
   "source": [
    "# Q5. What is the purpose of the __init__ method?"
   ]
  },
  {
   "cell_type": "code",
   "execution_count": 5,
   "id": "190e4fac",
   "metadata": {},
   "outputs": [],
   "source": [
    "# Ans : The __init__ method is very very similar to constructors in C++ and Java . \n",
    "#       Constructors are used to initialize the object's state. The task of constructors is to \n",
    "#       initialize(assign values) to the data members of the class when an object of class is created."
   ]
  },
  {
   "cell_type": "markdown",
   "id": "692f234e",
   "metadata": {},
   "source": [
    "# Q6. What is the process for creating a class instance?"
   ]
  },
  {
   "cell_type": "code",
   "execution_count": 6,
   "id": "706c3561",
   "metadata": {},
   "outputs": [],
   "source": [
    "# Ans : Call ClassName() to create a new instance of the class ClassName . To pass parameters to the class instance, \n",
    "#       the class must have an __init__() method. Pass the parameters in the constructor of the class."
   ]
  },
  {
   "cell_type": "markdown",
   "id": "23a67f5d",
   "metadata": {},
   "source": [
    "# Q7. What is the process for creating a class?"
   ]
  },
  {
   "cell_type": "code",
   "execution_count": 7,
   "id": "28dd5e79",
   "metadata": {},
   "outputs": [],
   "source": [
    "# Ans : Like function definitions begin with the def keyword in Python, class definitions begin with a class keyword.\n",
    "#      A class creates a new local namespace where all its attributes are defined. Attributes may be data or functions."
   ]
  },
  {
   "cell_type": "markdown",
   "id": "672d9800",
   "metadata": {},
   "source": [
    "# Q8. How would you define the superclasses of a class?"
   ]
  },
  {
   "cell_type": "code",
   "execution_count": null,
   "id": "f22fbcee",
   "metadata": {},
   "outputs": [],
   "source": [
    "# Ans : The class from which a class inherits is called the parent or superclass. A class which inherits from a \n",
    "#       superclass is called a subclass, also called heir class or child class. \n",
    "#       Superclasses are sometimes called ancestors as well."
   ]
  }
 ],
 "metadata": {
  "kernelspec": {
   "display_name": "Python 3",
   "language": "python",
   "name": "python3"
  },
  "language_info": {
   "codemirror_mode": {
    "name": "ipython",
    "version": 3
   },
   "file_extension": ".py",
   "mimetype": "text/x-python",
   "name": "python",
   "nbconvert_exporter": "python",
   "pygments_lexer": "ipython3",
   "version": "3.8.8"
  }
 },
 "nbformat": 4,
 "nbformat_minor": 5
}
